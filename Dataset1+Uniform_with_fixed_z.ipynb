{
  "nbformat": 4,
  "nbformat_minor": 0,
  "metadata": {
    "colab": {
      "name": "Dataset1+Uniform with fixed z.ipynb",
      "version": "0.3.2",
      "provenance": [],
      "collapsed_sections": []
    },
    "kernelspec": {
      "name": "python3",
      "display_name": "Python 3"
    }
  },
  "cells": [
    {
      "metadata": {
        "id": "REcJWmfZhiQW",
        "colab_type": "text"
      },
      "cell_type": "markdown",
      "source": [
        ""
      ]
    },
    {
      "metadata": {
        "id": "cgoLxgDpiM7o",
        "colab_type": "text"
      },
      "cell_type": "markdown",
      "source": [
        "#Step 1 - Load the data set"
      ]
    },
    {
      "metadata": {
        "id": "NwOhxQmAiWJZ",
        "colab_type": "text"
      },
      "cell_type": "markdown",
      "source": [
        "* After loading the dataset, we select the 3rd and 4th columns which will be our X1, X2 attributes respectively and the 9th column which provides the output-response y. \n",
        "\n",
        "\n",
        "\n"
      ]
    },
    {
      "metadata": {
        "id": "MbZsV8lMKQZn",
        "colab_type": "code",
        "colab": {
          "resources": {
            "http://localhost:8080/nbextensions/google.colab/files.js": {
              "data": "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",
              "ok": true,
              "headers": [
                [
                  "content-type",
                  "application/javascript"
                ]
              ],
              "status": 200,
              "status_text": ""
            }
          },
          "base_uri": "https://localhost:8080/",
          "height": 2078
        },
        "outputId": "2f0cb648-1650-4b48-f41a-b104351e1792"
      },
      "cell_type": "code",
      "source": [
        "from google.colab import files\n",
        "\n",
        "uploaded = files.upload()\n",
        "\n",
        "for fn in uploaded.keys():\n",
        "  print('User uploaded file \"{name}\" with length {length} bytes'.format(\n",
        "      name=fn, length=len(uploaded[fn])))\n",
        "\n",
        "import pandas as pd\n",
        "import numpy as np\n",
        "results = []\n",
        "with open('DataSet2.txt') as inputfile:\n",
        "    for line in inputfile:\n",
        "        results.append(line.strip().split(';'))\n",
        "    print(results[0:10])\n",
        "\n",
        "data = pd.DataFrame(results, columns = list(\"abcdefghi\"))\n",
        "data = data.drop(['a', 'b'], 1)\n",
        "data = data.drop(data.index[0])\n",
        "data = data[['c', 'd', 'i']]\n",
        "data = data[(data[['c','d','i']] != '?').all(axis=1)]\n",
        "data\n",
        "\n"
      ],
      "execution_count": 2,
      "outputs": [
        {
          "output_type": "display_data",
          "data": {
            "text/html": [
              "\n",
              "     <input type=\"file\" id=\"files-7063e948-9bb0-428e-af59-f99bde9d4c8a\" name=\"files[]\" multiple disabled />\n",
              "     <output id=\"result-7063e948-9bb0-428e-af59-f99bde9d4c8a\">\n",
              "      Upload widget is only available when the cell has been executed in the\n",
              "      current browser session. Please rerun this cell to enable.\n",
              "      </output>\n",
              "      <script src=\"/nbextensions/google.colab/files.js\"></script> "
            ],
            "text/plain": [
              "<IPython.core.display.HTML object>"
            ]
          },
          "metadata": {
            "tags": []
          }
        },
        {
          "output_type": "stream",
          "text": [
            "Saving DataSet2.txt to DataSet2 (2).txt\n",
            "User uploaded file \"DataSet2.txt\" with length 132960755 bytes\n",
            "[['Date', 'Time', 'Global_active_power', 'Global_reactive_power', 'Voltage', 'Global_intensity', 'Sub_metering_1', 'Sub_metering_2', 'Sub_metering_3'], ['16/12/2006', '17:24:00', '4.216', '0.418', '234.840', '18.400', '0.000', '1.000', '17.000'], ['16/12/2006', '17:25:00', '5.360', '0.436', '233.630', '23.000', '0.000', '1.000', '16.000'], ['16/12/2006', '17:26:00', '5.374', '0.498', '233.290', '23.000', '0.000', '2.000', '17.000'], ['16/12/2006', '17:27:00', '5.388', '0.502', '233.740', '23.000', '0.000', '1.000', '17.000'], ['16/12/2006', '17:28:00', '3.666', '0.528', '235.680', '15.800', '0.000', '1.000', '17.000'], ['16/12/2006', '17:29:00', '3.520', '0.522', '235.020', '15.000', '0.000', '2.000', '17.000'], ['16/12/2006', '17:30:00', '3.702', '0.520', '235.090', '15.800', '0.000', '1.000', '17.000'], ['16/12/2006', '17:31:00', '3.700', '0.520', '235.220', '15.800', '0.000', '1.000', '17.000'], ['16/12/2006', '17:32:00', '3.668', '0.510', '233.990', '15.800', '0.000', '1.000', '17.000']]\n"
          ],
          "name": "stdout"
        },
        {
          "output_type": "execute_result",
          "data": {
            "text/html": [
              "<div>\n",
              "<style scoped>\n",
              "    .dataframe tbody tr th:only-of-type {\n",
              "        vertical-align: middle;\n",
              "    }\n",
              "\n",
              "    .dataframe tbody tr th {\n",
              "        vertical-align: top;\n",
              "    }\n",
              "\n",
              "    .dataframe thead th {\n",
              "        text-align: right;\n",
              "    }\n",
              "</style>\n",
              "<table border=\"1\" class=\"dataframe\">\n",
              "  <thead>\n",
              "    <tr style=\"text-align: right;\">\n",
              "      <th></th>\n",
              "      <th>c</th>\n",
              "      <th>d</th>\n",
              "      <th>i</th>\n",
              "    </tr>\n",
              "  </thead>\n",
              "  <tbody>\n",
              "    <tr>\n",
              "      <th>1</th>\n",
              "      <td>4.216</td>\n",
              "      <td>0.418</td>\n",
              "      <td>17.000</td>\n",
              "    </tr>\n",
              "    <tr>\n",
              "      <th>2</th>\n",
              "      <td>5.360</td>\n",
              "      <td>0.436</td>\n",
              "      <td>16.000</td>\n",
              "    </tr>\n",
              "    <tr>\n",
              "      <th>3</th>\n",
              "      <td>5.374</td>\n",
              "      <td>0.498</td>\n",
              "      <td>17.000</td>\n",
              "    </tr>\n",
              "    <tr>\n",
              "      <th>4</th>\n",
              "      <td>5.388</td>\n",
              "      <td>0.502</td>\n",
              "      <td>17.000</td>\n",
              "    </tr>\n",
              "    <tr>\n",
              "      <th>5</th>\n",
              "      <td>3.666</td>\n",
              "      <td>0.528</td>\n",
              "      <td>17.000</td>\n",
              "    </tr>\n",
              "    <tr>\n",
              "      <th>6</th>\n",
              "      <td>3.520</td>\n",
              "      <td>0.522</td>\n",
              "      <td>17.000</td>\n",
              "    </tr>\n",
              "    <tr>\n",
              "      <th>7</th>\n",
              "      <td>3.702</td>\n",
              "      <td>0.520</td>\n",
              "      <td>17.000</td>\n",
              "    </tr>\n",
              "    <tr>\n",
              "      <th>8</th>\n",
              "      <td>3.700</td>\n",
              "      <td>0.520</td>\n",
              "      <td>17.000</td>\n",
              "    </tr>\n",
              "    <tr>\n",
              "      <th>9</th>\n",
              "      <td>3.668</td>\n",
              "      <td>0.510</td>\n",
              "      <td>17.000</td>\n",
              "    </tr>\n",
              "    <tr>\n",
              "      <th>10</th>\n",
              "      <td>3.662</td>\n",
              "      <td>0.510</td>\n",
              "      <td>16.000</td>\n",
              "    </tr>\n",
              "    <tr>\n",
              "      <th>11</th>\n",
              "      <td>4.448</td>\n",
              "      <td>0.498</td>\n",
              "      <td>17.000</td>\n",
              "    </tr>\n",
              "    <tr>\n",
              "      <th>12</th>\n",
              "      <td>5.412</td>\n",
              "      <td>0.470</td>\n",
              "      <td>17.000</td>\n",
              "    </tr>\n",
              "    <tr>\n",
              "      <th>13</th>\n",
              "      <td>5.224</td>\n",
              "      <td>0.478</td>\n",
              "      <td>16.000</td>\n",
              "    </tr>\n",
              "    <tr>\n",
              "      <th>14</th>\n",
              "      <td>5.268</td>\n",
              "      <td>0.398</td>\n",
              "      <td>17.000</td>\n",
              "    </tr>\n",
              "    <tr>\n",
              "      <th>15</th>\n",
              "      <td>4.054</td>\n",
              "      <td>0.422</td>\n",
              "      <td>17.000</td>\n",
              "    </tr>\n",
              "    <tr>\n",
              "      <th>16</th>\n",
              "      <td>3.384</td>\n",
              "      <td>0.282</td>\n",
              "      <td>17.000</td>\n",
              "    </tr>\n",
              "    <tr>\n",
              "      <th>17</th>\n",
              "      <td>3.270</td>\n",
              "      <td>0.152</td>\n",
              "      <td>17.000</td>\n",
              "    </tr>\n",
              "    <tr>\n",
              "      <th>18</th>\n",
              "      <td>3.430</td>\n",
              "      <td>0.156</td>\n",
              "      <td>17.000</td>\n",
              "    </tr>\n",
              "    <tr>\n",
              "      <th>19</th>\n",
              "      <td>3.266</td>\n",
              "      <td>0.000</td>\n",
              "      <td>18.000</td>\n",
              "    </tr>\n",
              "    <tr>\n",
              "      <th>20</th>\n",
              "      <td>3.728</td>\n",
              "      <td>0.000</td>\n",
              "      <td>17.000</td>\n",
              "    </tr>\n",
              "    <tr>\n",
              "      <th>21</th>\n",
              "      <td>5.894</td>\n",
              "      <td>0.000</td>\n",
              "      <td>16.000</td>\n",
              "    </tr>\n",
              "    <tr>\n",
              "      <th>22</th>\n",
              "      <td>7.706</td>\n",
              "      <td>0.000</td>\n",
              "      <td>17.000</td>\n",
              "    </tr>\n",
              "    <tr>\n",
              "      <th>23</th>\n",
              "      <td>7.026</td>\n",
              "      <td>0.000</td>\n",
              "      <td>16.000</td>\n",
              "    </tr>\n",
              "    <tr>\n",
              "      <th>24</th>\n",
              "      <td>5.174</td>\n",
              "      <td>0.000</td>\n",
              "      <td>17.000</td>\n",
              "    </tr>\n",
              "    <tr>\n",
              "      <th>25</th>\n",
              "      <td>4.474</td>\n",
              "      <td>0.000</td>\n",
              "      <td>17.000</td>\n",
              "    </tr>\n",
              "    <tr>\n",
              "      <th>26</th>\n",
              "      <td>3.248</td>\n",
              "      <td>0.000</td>\n",
              "      <td>17.000</td>\n",
              "    </tr>\n",
              "    <tr>\n",
              "      <th>27</th>\n",
              "      <td>3.236</td>\n",
              "      <td>0.000</td>\n",
              "      <td>17.000</td>\n",
              "    </tr>\n",
              "    <tr>\n",
              "      <th>28</th>\n",
              "      <td>3.228</td>\n",
              "      <td>0.000</td>\n",
              "      <td>17.000</td>\n",
              "    </tr>\n",
              "    <tr>\n",
              "      <th>29</th>\n",
              "      <td>3.258</td>\n",
              "      <td>0.000</td>\n",
              "      <td>17.000</td>\n",
              "    </tr>\n",
              "    <tr>\n",
              "      <th>30</th>\n",
              "      <td>3.178</td>\n",
              "      <td>0.000</td>\n",
              "      <td>17.000</td>\n",
              "    </tr>\n",
              "    <tr>\n",
              "      <th>...</th>\n",
              "      <td>...</td>\n",
              "      <td>...</td>\n",
              "      <td>...</td>\n",
              "    </tr>\n",
              "    <tr>\n",
              "      <th>2075230</th>\n",
              "      <td>0.978</td>\n",
              "      <td>0.000</td>\n",
              "      <td>0.000</td>\n",
              "    </tr>\n",
              "    <tr>\n",
              "      <th>2075231</th>\n",
              "      <td>0.968</td>\n",
              "      <td>0.000</td>\n",
              "      <td>0.000</td>\n",
              "    </tr>\n",
              "    <tr>\n",
              "      <th>2075232</th>\n",
              "      <td>0.960</td>\n",
              "      <td>0.000</td>\n",
              "      <td>0.000</td>\n",
              "    </tr>\n",
              "    <tr>\n",
              "      <th>2075233</th>\n",
              "      <td>0.964</td>\n",
              "      <td>0.000</td>\n",
              "      <td>0.000</td>\n",
              "    </tr>\n",
              "    <tr>\n",
              "      <th>2075234</th>\n",
              "      <td>0.980</td>\n",
              "      <td>0.000</td>\n",
              "      <td>0.000</td>\n",
              "    </tr>\n",
              "    <tr>\n",
              "      <th>2075235</th>\n",
              "      <td>0.976</td>\n",
              "      <td>0.096</td>\n",
              "      <td>0.000</td>\n",
              "    </tr>\n",
              "    <tr>\n",
              "      <th>2075236</th>\n",
              "      <td>0.984</td>\n",
              "      <td>0.100</td>\n",
              "      <td>0.000</td>\n",
              "    </tr>\n",
              "    <tr>\n",
              "      <th>2075237</th>\n",
              "      <td>0.986</td>\n",
              "      <td>0.102</td>\n",
              "      <td>0.000</td>\n",
              "    </tr>\n",
              "    <tr>\n",
              "      <th>2075238</th>\n",
              "      <td>0.990</td>\n",
              "      <td>0.106</td>\n",
              "      <td>0.000</td>\n",
              "    </tr>\n",
              "    <tr>\n",
              "      <th>2075239</th>\n",
              "      <td>0.988</td>\n",
              "      <td>0.106</td>\n",
              "      <td>0.000</td>\n",
              "    </tr>\n",
              "    <tr>\n",
              "      <th>2075240</th>\n",
              "      <td>0.988</td>\n",
              "      <td>0.106</td>\n",
              "      <td>0.000</td>\n",
              "    </tr>\n",
              "    <tr>\n",
              "      <th>2075241</th>\n",
              "      <td>0.982</td>\n",
              "      <td>0.102</td>\n",
              "      <td>0.000</td>\n",
              "    </tr>\n",
              "    <tr>\n",
              "      <th>2075242</th>\n",
              "      <td>0.972</td>\n",
              "      <td>0.092</td>\n",
              "      <td>0.000</td>\n",
              "    </tr>\n",
              "    <tr>\n",
              "      <th>2075243</th>\n",
              "      <td>0.908</td>\n",
              "      <td>0.000</td>\n",
              "      <td>0.000</td>\n",
              "    </tr>\n",
              "    <tr>\n",
              "      <th>2075244</th>\n",
              "      <td>0.910</td>\n",
              "      <td>0.000</td>\n",
              "      <td>0.000</td>\n",
              "    </tr>\n",
              "    <tr>\n",
              "      <th>2075245</th>\n",
              "      <td>0.912</td>\n",
              "      <td>0.000</td>\n",
              "      <td>0.000</td>\n",
              "    </tr>\n",
              "    <tr>\n",
              "      <th>2075246</th>\n",
              "      <td>0.948</td>\n",
              "      <td>0.000</td>\n",
              "      <td>0.000</td>\n",
              "    </tr>\n",
              "    <tr>\n",
              "      <th>2075247</th>\n",
              "      <td>1.198</td>\n",
              "      <td>0.128</td>\n",
              "      <td>0.000</td>\n",
              "    </tr>\n",
              "    <tr>\n",
              "      <th>2075248</th>\n",
              "      <td>1.024</td>\n",
              "      <td>0.106</td>\n",
              "      <td>0.000</td>\n",
              "    </tr>\n",
              "    <tr>\n",
              "      <th>2075249</th>\n",
              "      <td>0.946</td>\n",
              "      <td>0.000</td>\n",
              "      <td>0.000</td>\n",
              "    </tr>\n",
              "    <tr>\n",
              "      <th>2075250</th>\n",
              "      <td>0.944</td>\n",
              "      <td>0.000</td>\n",
              "      <td>0.000</td>\n",
              "    </tr>\n",
              "    <tr>\n",
              "      <th>2075251</th>\n",
              "      <td>0.946</td>\n",
              "      <td>0.000</td>\n",
              "      <td>0.000</td>\n",
              "    </tr>\n",
              "    <tr>\n",
              "      <th>2075252</th>\n",
              "      <td>0.946</td>\n",
              "      <td>0.000</td>\n",
              "      <td>0.000</td>\n",
              "    </tr>\n",
              "    <tr>\n",
              "      <th>2075253</th>\n",
              "      <td>0.942</td>\n",
              "      <td>0.000</td>\n",
              "      <td>0.000</td>\n",
              "    </tr>\n",
              "    <tr>\n",
              "      <th>2075254</th>\n",
              "      <td>0.946</td>\n",
              "      <td>0.000</td>\n",
              "      <td>0.000</td>\n",
              "    </tr>\n",
              "    <tr>\n",
              "      <th>2075255</th>\n",
              "      <td>0.946</td>\n",
              "      <td>0.000</td>\n",
              "      <td>0.000</td>\n",
              "    </tr>\n",
              "    <tr>\n",
              "      <th>2075256</th>\n",
              "      <td>0.944</td>\n",
              "      <td>0.000</td>\n",
              "      <td>0.000</td>\n",
              "    </tr>\n",
              "    <tr>\n",
              "      <th>2075257</th>\n",
              "      <td>0.938</td>\n",
              "      <td>0.000</td>\n",
              "      <td>0.000</td>\n",
              "    </tr>\n",
              "    <tr>\n",
              "      <th>2075258</th>\n",
              "      <td>0.934</td>\n",
              "      <td>0.000</td>\n",
              "      <td>0.000</td>\n",
              "    </tr>\n",
              "    <tr>\n",
              "      <th>2075259</th>\n",
              "      <td>0.932</td>\n",
              "      <td>0.000</td>\n",
              "      <td>0.000</td>\n",
              "    </tr>\n",
              "  </tbody>\n",
              "</table>\n",
              "<p>2049280 rows × 3 columns</p>\n",
              "</div>"
            ],
            "text/plain": [
              "             c      d       i\n",
              "1        4.216  0.418  17.000\n",
              "2        5.360  0.436  16.000\n",
              "3        5.374  0.498  17.000\n",
              "4        5.388  0.502  17.000\n",
              "5        3.666  0.528  17.000\n",
              "6        3.520  0.522  17.000\n",
              "7        3.702  0.520  17.000\n",
              "8        3.700  0.520  17.000\n",
              "9        3.668  0.510  17.000\n",
              "10       3.662  0.510  16.000\n",
              "11       4.448  0.498  17.000\n",
              "12       5.412  0.470  17.000\n",
              "13       5.224  0.478  16.000\n",
              "14       5.268  0.398  17.000\n",
              "15       4.054  0.422  17.000\n",
              "16       3.384  0.282  17.000\n",
              "17       3.270  0.152  17.000\n",
              "18       3.430  0.156  17.000\n",
              "19       3.266  0.000  18.000\n",
              "20       3.728  0.000  17.000\n",
              "21       5.894  0.000  16.000\n",
              "22       7.706  0.000  17.000\n",
              "23       7.026  0.000  16.000\n",
              "24       5.174  0.000  17.000\n",
              "25       4.474  0.000  17.000\n",
              "26       3.248  0.000  17.000\n",
              "27       3.236  0.000  17.000\n",
              "28       3.228  0.000  17.000\n",
              "29       3.258  0.000  17.000\n",
              "30       3.178  0.000  17.000\n",
              "...        ...    ...     ...\n",
              "2075230  0.978  0.000   0.000\n",
              "2075231  0.968  0.000   0.000\n",
              "2075232  0.960  0.000   0.000\n",
              "2075233  0.964  0.000   0.000\n",
              "2075234  0.980  0.000   0.000\n",
              "2075235  0.976  0.096   0.000\n",
              "2075236  0.984  0.100   0.000\n",
              "2075237  0.986  0.102   0.000\n",
              "2075238  0.990  0.106   0.000\n",
              "2075239  0.988  0.106   0.000\n",
              "2075240  0.988  0.106   0.000\n",
              "2075241  0.982  0.102   0.000\n",
              "2075242  0.972  0.092   0.000\n",
              "2075243  0.908  0.000   0.000\n",
              "2075244  0.910  0.000   0.000\n",
              "2075245  0.912  0.000   0.000\n",
              "2075246  0.948  0.000   0.000\n",
              "2075247  1.198  0.128   0.000\n",
              "2075248  1.024  0.106   0.000\n",
              "2075249  0.946  0.000   0.000\n",
              "2075250  0.944  0.000   0.000\n",
              "2075251  0.946  0.000   0.000\n",
              "2075252  0.946  0.000   0.000\n",
              "2075253  0.942  0.000   0.000\n",
              "2075254  0.946  0.000   0.000\n",
              "2075255  0.946  0.000   0.000\n",
              "2075256  0.944  0.000   0.000\n",
              "2075257  0.938  0.000   0.000\n",
              "2075258  0.934  0.000   0.000\n",
              "2075259  0.932  0.000   0.000\n",
              "\n",
              "[2049280 rows x 3 columns]"
            ]
          },
          "metadata": {
            "tags": []
          },
          "execution_count": 2
        }
      ]
    },
    {
      "metadata": {
        "id": "x9xam6vfjLJN",
        "colab_type": "text"
      },
      "cell_type": "markdown",
      "source": [
        "# Some preprocessing"
      ]
    },
    {
      "metadata": {
        "id": "EeBw1rLUjAK9",
        "colab_type": "text"
      },
      "cell_type": "markdown",
      "source": [
        "* Here, we assign float values to our dataframe's content and find the minimum and maximum values of each one of the **X1** and **X2** attributes."
      ]
    },
    {
      "metadata": {
        "id": "tClG_9qwKRqy",
        "colab_type": "code",
        "colab": {
          "base_uri": "https://localhost:8080/",
          "height": 119
        },
        "outputId": "59faa508-51ef-43e3-98cd-b3e6003affc5"
      },
      "cell_type": "code",
      "source": [
        "L_float = data.as_matrix(columns=None)\n",
        "#Convert all values to float.\n",
        "data3D = L_float.astype(np.float)\n",
        "print(data3D.shape)\n",
        "\n",
        "#Find min, max values for both attributes.\n",
        "lim1=data3D[:,0].min()\n",
        "print(lim1)\n",
        "\n",
        "lim2=data3D[:,0].max()\n",
        "print(lim2)\n",
        "\n",
        "print()\n",
        "\n",
        "lim3=data3D[:,1].min()\n",
        "print(lim3)\n",
        "\n",
        "lim4=data3D[:,1].max()\n",
        "print(lim4)"
      ],
      "execution_count": 3,
      "outputs": [
        {
          "output_type": "stream",
          "text": [
            "(2049280, 3)\n",
            "0.076\n",
            "11.122\n",
            "\n",
            "0.0\n",
            "1.39\n"
          ],
          "name": "stdout"
        }
      ]
    },
    {
      "metadata": {
        "id": "Dz-5n36pnAnt",
        "colab_type": "text"
      },
      "cell_type": "markdown",
      "source": [
        "\n",
        "\n",
        "\n",
        "* Next, we generate our new query data set, where the query's attributes **X1** and **X2** are randomly chosen from a **Uniform distribution**, where *X1~U(lim1,lim2)* and *X2~U(lim3,lim4)*. The radius **z** is a relatively small, fixed value.\n",
        "\n",
        "\n",
        "\n"
      ]
    },
    {
      "metadata": {
        "id": "UjqG9cgUMCWc",
        "colab_type": "code",
        "colab": {
          "base_uri": "https://localhost:8080/",
          "height": 1224
        },
        "outputId": "d8ac4ba9-0bf8-4569-a103-4efbd2a3092b"
      },
      "cell_type": "code",
      "source": [
        "import random\n",
        "import numpy as np\n",
        "\n",
        "#Generate X1,X2 using random uniform distribution and a fixed z.\n",
        "X1 = np.random.uniform(lim1, lim2, 200)\n",
        "X2 = np.random.uniform(lim3, lim4, 200)\n",
        "z1 = 0.05*(lim2 - lim1)\n",
        "z2 = 0.05*(lim4 - lim3)\n",
        "z = np.sqrt(z1**2 + z2**2)\n",
        "\n",
        "print(X1)\n",
        "print()\n",
        "print(X2)\n",
        "print()\n",
        "print(z)\n"
      ],
      "execution_count": 4,
      "outputs": [
        {
          "output_type": "stream",
          "text": [
            "[ 9.72003482 10.42188456  7.38610738  1.77586716 10.14742623  1.47049799\n",
            "  9.5583315   1.7513859  10.59984592  4.21286231  1.03420364  1.21399238\n",
            "  4.68597126  6.68348849  8.07038768  1.82656107  0.55982654  0.46217926\n",
            "  0.47776361  4.12504229  2.01141126  3.62846433  1.98500114  7.11888908\n",
            "  8.80766318  3.32959457  1.18306236  8.98981992  5.48860635 10.92089129\n",
            "  9.79360857  7.12284599  5.7702409   4.63703963  6.12808952  9.71434797\n",
            "  2.47635422  7.22289158  6.56203444  4.82137142  6.30622007  0.93703642\n",
            "  8.32173129  4.37962963 10.30681598  1.96602118  1.81146005  5.03199939\n",
            "  8.42319268  5.77904909  0.46002252 10.47917696  4.0673768   0.87537693\n",
            " 10.0037467   4.91340069  9.85464701  2.52937504  0.565574    2.06466001\n",
            "  1.23516712  5.52243857  8.47714753  6.66088068 10.52850902  0.66770266\n",
            "  1.00337302  2.93283956  6.29126113  3.91670223  6.39186161  4.13500171\n",
            "  5.16049824  1.37857178  0.10657466  3.53944203  1.7409597   6.82317589\n",
            "  6.27471737  1.07984686  9.40347913  4.00018541  6.2833976  10.09948104\n",
            "  4.6236673   5.5322422   2.8654088   0.76733955  8.87288775  7.15649994\n",
            "  8.97174657  8.73592229  5.20311414 10.92558408  9.38089818 10.79311195\n",
            "  0.27790478  0.75106399  1.51283419  0.23239851 11.06999856  7.42089129\n",
            "  8.06486049  2.10679126 11.12088309  7.59890959  1.62308336  8.74937251\n",
            "  6.33750276  6.71240135  2.1879524   1.4306727   5.74738603  8.95739876\n",
            "  6.57976108  6.57773693  3.32621164  0.52946937 10.70607619  8.82040944\n",
            "  1.60577871  0.48373267  5.96490663  6.20701525  4.99755566  6.18647525\n",
            "  5.7159262   9.42693703  6.70010808  1.45797497 10.25347372  1.09680701\n",
            "  0.84813337  0.8374725   1.2632021   0.30062592  8.37858858  0.87090859\n",
            "  6.31286284  9.11646762  5.11802551  4.65799944  1.80043413  7.38108984\n",
            "  1.31809505  3.00270607  1.10773188  2.41806971  4.84357005  3.476655\n",
            " 10.10499535 10.47851113  6.57795281  9.91674992  2.77723215  0.41596734\n",
            "  3.57598606 10.39315018  6.37671881  8.10192365  7.69813259  1.91283098\n",
            "  2.74483098  5.5262157   6.38493583  9.31055237  0.80820956  7.7858365\n",
            "  7.9055754   5.93436733  1.40879216  8.35064465  2.76800072  8.18235947\n",
            "  0.39326273  9.73594458  6.31235495  7.35960401 10.08459607  9.37809913\n",
            "  6.10210896 10.81673526  7.15378721  1.99273773  2.77127945  2.77391795\n",
            "  7.84398384  8.0943278   8.47607126 10.20000071 10.91279366  5.36345639\n",
            "  5.74948703  2.24479675  5.24707928  1.31006654  7.19748613 10.84131652\n",
            " 10.26101478  1.59904075]\n",
            "\n",
            "[0.39359935 0.39885737 1.04123116 0.5971232  0.52641725 0.44032311\n",
            " 0.65285878 0.65379411 0.21084499 0.35104475 0.58792645 1.27757137\n",
            " 0.13579854 0.00227806 0.99728367 1.14068539 0.66315582 0.88347954\n",
            " 0.57790571 0.69735832 1.02966364 0.3386968  0.35533019 0.95439727\n",
            " 1.35533474 1.2288154  1.07619573 0.93434667 0.5386222  0.26708713\n",
            " 1.30771885 0.42306795 0.06645836 0.52003667 0.52487622 1.2017556\n",
            " 0.38788244 0.36963962 0.32929522 1.17710318 0.76675571 0.9932845\n",
            " 0.43030529 0.59164389 0.97141234 0.64034136 0.83134634 0.33625684\n",
            " 0.85262978 0.20761922 1.21267381 1.27149177 1.36961341 0.5575631\n",
            " 0.53407468 1.19092775 0.1320876  0.1576314  0.3762923  0.08442804\n",
            " 0.39315576 0.03110568 0.24756205 0.13071936 0.62722669 0.99679566\n",
            " 0.129888   0.61658948 0.90685958 0.82215921 0.89831102 1.34288181\n",
            " 0.78243216 0.4683831  0.28650317 0.53500829 0.2857511  0.02212208\n",
            " 0.13067546 1.10009604 0.84041846 1.35340319 0.3968406  0.57103145\n",
            " 0.10670418 0.88387273 0.31836929 1.36858627 0.36466671 0.29509041\n",
            " 1.08697383 0.9317469  0.78683987 1.09557953 1.05433119 0.18217561\n",
            " 0.76643148 0.46477361 0.93145038 1.28602219 0.54277815 0.08037953\n",
            " 0.56051787 0.62157678 1.27821769 0.00147984 1.05270531 0.54524545\n",
            " 1.36267266 0.75553739 0.39202455 0.35631598 0.55762682 0.75192256\n",
            " 0.54471162 0.39766144 1.35764855 0.09677828 0.67717475 0.39995413\n",
            " 0.25400406 1.28396221 0.64909152 0.65186167 0.62601481 0.68666793\n",
            " 1.23015633 0.63373075 1.12676552 1.20482979 1.03089608 0.51500971\n",
            " 0.07846395 1.03660662 0.88109978 0.91320219 1.31125528 0.01954287\n",
            " 0.18220988 0.6075882  1.02852211 1.36106815 0.87341286 0.82611213\n",
            " 0.1834368  1.06939806 0.31241332 1.29860857 1.18755619 0.65634133\n",
            " 0.37617817 0.35487507 0.7995247  0.41058719 0.98753934 1.22228996\n",
            " 0.72259376 0.77524815 0.9551054  1.36811955 0.1695608  0.12288324\n",
            " 0.87728226 0.05175374 0.86661825 0.77182743 0.15132384 0.90437838\n",
            " 1.38195276 0.03922929 0.73244284 0.87210559 1.33048075 1.37074473\n",
            " 0.54966597 0.35904792 0.47772304 0.39693252 0.23249593 1.16938306\n",
            " 0.92190477 0.8666201  0.82580948 0.23639625 0.67907488 0.56383179\n",
            " 1.38577913 0.18400438 1.35005756 0.16721229 0.37093559 1.0602397\n",
            " 0.53658673 0.6174613  0.54201195 0.91433449 0.97997292 1.17825328\n",
            " 0.74966045 0.08815221]\n",
            "\n",
            "0.5566556745421716\n"
          ],
          "name": "stdout"
        }
      ]
    },
    {
      "metadata": {
        "id": "B0_36JXRpamN",
        "colab_type": "text"
      },
      "cell_type": "markdown",
      "source": [
        "* We **merge** the lists of X1, X2 and z into one array."
      ]
    },
    {
      "metadata": {
        "id": "qhOjqymrYPnl",
        "colab_type": "code",
        "colab": {
          "base_uri": "https://localhost:8080/",
          "height": 3417
        },
        "outputId": "5b1bb0ec-cc38-41ed-ef70-e03465141b77"
      },
      "cell_type": "code",
      "source": [
        "X1_flattened = (X1.T).ravel()\n",
        "X2_flattened = (X2.T).ravel()\n",
        "QA_dataset = np.empty((len(X1),4))\n",
        "QA_dataset[:,0] = X1_flattened\n",
        "QA_dataset[:,1] = X2_flattened\n",
        "QA_dataset[:,2] = z\n",
        "QA_dataset[:,3] = 0\n",
        "print(QA_dataset)\n"
      ],
      "execution_count": 5,
      "outputs": [
        {
          "output_type": "stream",
          "text": [
            "[[9.72003482e+00 3.93599355e-01 5.56655675e-01 0.00000000e+00]\n",
            " [1.04218846e+01 3.98857374e-01 5.56655675e-01 0.00000000e+00]\n",
            " [7.38610738e+00 1.04123116e+00 5.56655675e-01 0.00000000e+00]\n",
            " [1.77586716e+00 5.97123202e-01 5.56655675e-01 0.00000000e+00]\n",
            " [1.01474262e+01 5.26417252e-01 5.56655675e-01 0.00000000e+00]\n",
            " [1.47049799e+00 4.40323111e-01 5.56655675e-01 0.00000000e+00]\n",
            " [9.55833150e+00 6.52858778e-01 5.56655675e-01 0.00000000e+00]\n",
            " [1.75138590e+00 6.53794108e-01 5.56655675e-01 0.00000000e+00]\n",
            " [1.05998459e+01 2.10844990e-01 5.56655675e-01 0.00000000e+00]\n",
            " [4.21286231e+00 3.51044749e-01 5.56655675e-01 0.00000000e+00]\n",
            " [1.03420364e+00 5.87926450e-01 5.56655675e-01 0.00000000e+00]\n",
            " [1.21399238e+00 1.27757137e+00 5.56655675e-01 0.00000000e+00]\n",
            " [4.68597126e+00 1.35798539e-01 5.56655675e-01 0.00000000e+00]\n",
            " [6.68348849e+00 2.27805676e-03 5.56655675e-01 0.00000000e+00]\n",
            " [8.07038768e+00 9.97283674e-01 5.56655675e-01 0.00000000e+00]\n",
            " [1.82656107e+00 1.14068539e+00 5.56655675e-01 0.00000000e+00]\n",
            " [5.59826542e-01 6.63155820e-01 5.56655675e-01 0.00000000e+00]\n",
            " [4.62179261e-01 8.83479542e-01 5.56655675e-01 0.00000000e+00]\n",
            " [4.77763611e-01 5.77905708e-01 5.56655675e-01 0.00000000e+00]\n",
            " [4.12504229e+00 6.97358320e-01 5.56655675e-01 0.00000000e+00]\n",
            " [2.01141126e+00 1.02966364e+00 5.56655675e-01 0.00000000e+00]\n",
            " [3.62846433e+00 3.38696799e-01 5.56655675e-01 0.00000000e+00]\n",
            " [1.98500114e+00 3.55330193e-01 5.56655675e-01 0.00000000e+00]\n",
            " [7.11888908e+00 9.54397275e-01 5.56655675e-01 0.00000000e+00]\n",
            " [8.80766318e+00 1.35533474e+00 5.56655675e-01 0.00000000e+00]\n",
            " [3.32959457e+00 1.22881540e+00 5.56655675e-01 0.00000000e+00]\n",
            " [1.18306236e+00 1.07619573e+00 5.56655675e-01 0.00000000e+00]\n",
            " [8.98981992e+00 9.34346666e-01 5.56655675e-01 0.00000000e+00]\n",
            " [5.48860635e+00 5.38622202e-01 5.56655675e-01 0.00000000e+00]\n",
            " [1.09208913e+01 2.67087129e-01 5.56655675e-01 0.00000000e+00]\n",
            " [9.79360857e+00 1.30771885e+00 5.56655675e-01 0.00000000e+00]\n",
            " [7.12284599e+00 4.23067953e-01 5.56655675e-01 0.00000000e+00]\n",
            " [5.77024090e+00 6.64583579e-02 5.56655675e-01 0.00000000e+00]\n",
            " [4.63703963e+00 5.20036666e-01 5.56655675e-01 0.00000000e+00]\n",
            " [6.12808952e+00 5.24876223e-01 5.56655675e-01 0.00000000e+00]\n",
            " [9.71434797e+00 1.20175560e+00 5.56655675e-01 0.00000000e+00]\n",
            " [2.47635422e+00 3.87882442e-01 5.56655675e-01 0.00000000e+00]\n",
            " [7.22289158e+00 3.69639625e-01 5.56655675e-01 0.00000000e+00]\n",
            " [6.56203444e+00 3.29295219e-01 5.56655675e-01 0.00000000e+00]\n",
            " [4.82137142e+00 1.17710318e+00 5.56655675e-01 0.00000000e+00]\n",
            " [6.30622007e+00 7.66755711e-01 5.56655675e-01 0.00000000e+00]\n",
            " [9.37036421e-01 9.93284495e-01 5.56655675e-01 0.00000000e+00]\n",
            " [8.32173129e+00 4.30305290e-01 5.56655675e-01 0.00000000e+00]\n",
            " [4.37962963e+00 5.91643887e-01 5.56655675e-01 0.00000000e+00]\n",
            " [1.03068160e+01 9.71412344e-01 5.56655675e-01 0.00000000e+00]\n",
            " [1.96602118e+00 6.40341364e-01 5.56655675e-01 0.00000000e+00]\n",
            " [1.81146005e+00 8.31346342e-01 5.56655675e-01 0.00000000e+00]\n",
            " [5.03199939e+00 3.36256840e-01 5.56655675e-01 0.00000000e+00]\n",
            " [8.42319268e+00 8.52629784e-01 5.56655675e-01 0.00000000e+00]\n",
            " [5.77904909e+00 2.07619220e-01 5.56655675e-01 0.00000000e+00]\n",
            " [4.60022523e-01 1.21267381e+00 5.56655675e-01 0.00000000e+00]\n",
            " [1.04791770e+01 1.27149177e+00 5.56655675e-01 0.00000000e+00]\n",
            " [4.06737680e+00 1.36961341e+00 5.56655675e-01 0.00000000e+00]\n",
            " [8.75376927e-01 5.57563101e-01 5.56655675e-01 0.00000000e+00]\n",
            " [1.00037467e+01 5.34074677e-01 5.56655675e-01 0.00000000e+00]\n",
            " [4.91340069e+00 1.19092775e+00 5.56655675e-01 0.00000000e+00]\n",
            " [9.85464701e+00 1.32087598e-01 5.56655675e-01 0.00000000e+00]\n",
            " [2.52937504e+00 1.57631402e-01 5.56655675e-01 0.00000000e+00]\n",
            " [5.65574003e-01 3.76292298e-01 5.56655675e-01 0.00000000e+00]\n",
            " [2.06466001e+00 8.44280397e-02 5.56655675e-01 0.00000000e+00]\n",
            " [1.23516712e+00 3.93155757e-01 5.56655675e-01 0.00000000e+00]\n",
            " [5.52243857e+00 3.11056759e-02 5.56655675e-01 0.00000000e+00]\n",
            " [8.47714753e+00 2.47562053e-01 5.56655675e-01 0.00000000e+00]\n",
            " [6.66088068e+00 1.30719358e-01 5.56655675e-01 0.00000000e+00]\n",
            " [1.05285090e+01 6.27226693e-01 5.56655675e-01 0.00000000e+00]\n",
            " [6.67702664e-01 9.96795658e-01 5.56655675e-01 0.00000000e+00]\n",
            " [1.00337302e+00 1.29888004e-01 5.56655675e-01 0.00000000e+00]\n",
            " [2.93283956e+00 6.16589482e-01 5.56655675e-01 0.00000000e+00]\n",
            " [6.29126113e+00 9.06859576e-01 5.56655675e-01 0.00000000e+00]\n",
            " [3.91670223e+00 8.22159206e-01 5.56655675e-01 0.00000000e+00]\n",
            " [6.39186161e+00 8.98311020e-01 5.56655675e-01 0.00000000e+00]\n",
            " [4.13500171e+00 1.34288181e+00 5.56655675e-01 0.00000000e+00]\n",
            " [5.16049824e+00 7.82432163e-01 5.56655675e-01 0.00000000e+00]\n",
            " [1.37857178e+00 4.68383097e-01 5.56655675e-01 0.00000000e+00]\n",
            " [1.06574659e-01 2.86503172e-01 5.56655675e-01 0.00000000e+00]\n",
            " [3.53944203e+00 5.35008289e-01 5.56655675e-01 0.00000000e+00]\n",
            " [1.74095970e+00 2.85751100e-01 5.56655675e-01 0.00000000e+00]\n",
            " [6.82317589e+00 2.21220849e-02 5.56655675e-01 0.00000000e+00]\n",
            " [6.27471737e+00 1.30675455e-01 5.56655675e-01 0.00000000e+00]\n",
            " [1.07984686e+00 1.10009604e+00 5.56655675e-01 0.00000000e+00]\n",
            " [9.40347913e+00 8.40418455e-01 5.56655675e-01 0.00000000e+00]\n",
            " [4.00018541e+00 1.35340319e+00 5.56655675e-01 0.00000000e+00]\n",
            " [6.28339760e+00 3.96840600e-01 5.56655675e-01 0.00000000e+00]\n",
            " [1.00994810e+01 5.71031454e-01 5.56655675e-01 0.00000000e+00]\n",
            " [4.62366730e+00 1.06704179e-01 5.56655675e-01 0.00000000e+00]\n",
            " [5.53224220e+00 8.83872726e-01 5.56655675e-01 0.00000000e+00]\n",
            " [2.86540880e+00 3.18369289e-01 5.56655675e-01 0.00000000e+00]\n",
            " [7.67339547e-01 1.36858627e+00 5.56655675e-01 0.00000000e+00]\n",
            " [8.87288775e+00 3.64666707e-01 5.56655675e-01 0.00000000e+00]\n",
            " [7.15649994e+00 2.95090405e-01 5.56655675e-01 0.00000000e+00]\n",
            " [8.97174657e+00 1.08697383e+00 5.56655675e-01 0.00000000e+00]\n",
            " [8.73592229e+00 9.31746902e-01 5.56655675e-01 0.00000000e+00]\n",
            " [5.20311414e+00 7.86839873e-01 5.56655675e-01 0.00000000e+00]\n",
            " [1.09255841e+01 1.09557953e+00 5.56655675e-01 0.00000000e+00]\n",
            " [9.38089818e+00 1.05433119e+00 5.56655675e-01 0.00000000e+00]\n",
            " [1.07931119e+01 1.82175614e-01 5.56655675e-01 0.00000000e+00]\n",
            " [2.77904781e-01 7.66431477e-01 5.56655675e-01 0.00000000e+00]\n",
            " [7.51063994e-01 4.64773608e-01 5.56655675e-01 0.00000000e+00]\n",
            " [1.51283419e+00 9.31450379e-01 5.56655675e-01 0.00000000e+00]\n",
            " [2.32398507e-01 1.28602219e+00 5.56655675e-01 0.00000000e+00]\n",
            " [1.10699986e+01 5.42778149e-01 5.56655675e-01 0.00000000e+00]\n",
            " [7.42089129e+00 8.03795277e-02 5.56655675e-01 0.00000000e+00]\n",
            " [8.06486049e+00 5.60517868e-01 5.56655675e-01 0.00000000e+00]\n",
            " [2.10679126e+00 6.21576775e-01 5.56655675e-01 0.00000000e+00]\n",
            " [1.11208831e+01 1.27821769e+00 5.56655675e-01 0.00000000e+00]\n",
            " [7.59890959e+00 1.47984379e-03 5.56655675e-01 0.00000000e+00]\n",
            " [1.62308336e+00 1.05270531e+00 5.56655675e-01 0.00000000e+00]\n",
            " [8.74937251e+00 5.45245453e-01 5.56655675e-01 0.00000000e+00]\n",
            " [6.33750276e+00 1.36267266e+00 5.56655675e-01 0.00000000e+00]\n",
            " [6.71240135e+00 7.55537386e-01 5.56655675e-01 0.00000000e+00]\n",
            " [2.18795240e+00 3.92024550e-01 5.56655675e-01 0.00000000e+00]\n",
            " [1.43067270e+00 3.56315979e-01 5.56655675e-01 0.00000000e+00]\n",
            " [5.74738603e+00 5.57626823e-01 5.56655675e-01 0.00000000e+00]\n",
            " [8.95739876e+00 7.51922558e-01 5.56655675e-01 0.00000000e+00]\n",
            " [6.57976108e+00 5.44711616e-01 5.56655675e-01 0.00000000e+00]\n",
            " [6.57773693e+00 3.97661437e-01 5.56655675e-01 0.00000000e+00]\n",
            " [3.32621164e+00 1.35764855e+00 5.56655675e-01 0.00000000e+00]\n",
            " [5.29469373e-01 9.67782829e-02 5.56655675e-01 0.00000000e+00]\n",
            " [1.07060762e+01 6.77174752e-01 5.56655675e-01 0.00000000e+00]\n",
            " [8.82040944e+00 3.99954133e-01 5.56655675e-01 0.00000000e+00]\n",
            " [1.60577871e+00 2.54004062e-01 5.56655675e-01 0.00000000e+00]\n",
            " [4.83732667e-01 1.28396221e+00 5.56655675e-01 0.00000000e+00]\n",
            " [5.96490663e+00 6.49091522e-01 5.56655675e-01 0.00000000e+00]\n",
            " [6.20701525e+00 6.51861670e-01 5.56655675e-01 0.00000000e+00]\n",
            " [4.99755566e+00 6.26014808e-01 5.56655675e-01 0.00000000e+00]\n",
            " [6.18647525e+00 6.86667928e-01 5.56655675e-01 0.00000000e+00]\n",
            " [5.71592620e+00 1.23015633e+00 5.56655675e-01 0.00000000e+00]\n",
            " [9.42693703e+00 6.33730752e-01 5.56655675e-01 0.00000000e+00]\n",
            " [6.70010808e+00 1.12676552e+00 5.56655675e-01 0.00000000e+00]\n",
            " [1.45797497e+00 1.20482979e+00 5.56655675e-01 0.00000000e+00]\n",
            " [1.02534737e+01 1.03089608e+00 5.56655675e-01 0.00000000e+00]\n",
            " [1.09680701e+00 5.15009706e-01 5.56655675e-01 0.00000000e+00]\n",
            " [8.48133374e-01 7.84639543e-02 5.56655675e-01 0.00000000e+00]\n",
            " [8.37472496e-01 1.03660662e+00 5.56655675e-01 0.00000000e+00]\n",
            " [1.26320210e+00 8.81099783e-01 5.56655675e-01 0.00000000e+00]\n",
            " [3.00625923e-01 9.13202194e-01 5.56655675e-01 0.00000000e+00]\n",
            " [8.37858858e+00 1.31125528e+00 5.56655675e-01 0.00000000e+00]\n",
            " [8.70908585e-01 1.95428691e-02 5.56655675e-01 0.00000000e+00]\n",
            " [6.31286284e+00 1.82209879e-01 5.56655675e-01 0.00000000e+00]\n",
            " [9.11646762e+00 6.07588198e-01 5.56655675e-01 0.00000000e+00]\n",
            " [5.11802551e+00 1.02852211e+00 5.56655675e-01 0.00000000e+00]\n",
            " [4.65799944e+00 1.36106815e+00 5.56655675e-01 0.00000000e+00]\n",
            " [1.80043413e+00 8.73412855e-01 5.56655675e-01 0.00000000e+00]\n",
            " [7.38108984e+00 8.26112134e-01 5.56655675e-01 0.00000000e+00]\n",
            " [1.31809505e+00 1.83436798e-01 5.56655675e-01 0.00000000e+00]\n",
            " [3.00270607e+00 1.06939806e+00 5.56655675e-01 0.00000000e+00]\n",
            " [1.10773188e+00 3.12413322e-01 5.56655675e-01 0.00000000e+00]\n",
            " [2.41806971e+00 1.29860857e+00 5.56655675e-01 0.00000000e+00]\n",
            " [4.84357005e+00 1.18755619e+00 5.56655675e-01 0.00000000e+00]\n",
            " [3.47665500e+00 6.56341332e-01 5.56655675e-01 0.00000000e+00]\n",
            " [1.01049954e+01 3.76178173e-01 5.56655675e-01 0.00000000e+00]\n",
            " [1.04785111e+01 3.54875067e-01 5.56655675e-01 0.00000000e+00]\n",
            " [6.57795281e+00 7.99524697e-01 5.56655675e-01 0.00000000e+00]\n",
            " [9.91674992e+00 4.10587187e-01 5.56655675e-01 0.00000000e+00]\n",
            " [2.77723215e+00 9.87539337e-01 5.56655675e-01 0.00000000e+00]\n",
            " [4.15967338e-01 1.22228996e+00 5.56655675e-01 0.00000000e+00]\n",
            " [3.57598606e+00 7.22593756e-01 5.56655675e-01 0.00000000e+00]\n",
            " [1.03931502e+01 7.75248146e-01 5.56655675e-01 0.00000000e+00]\n",
            " [6.37671881e+00 9.55105401e-01 5.56655675e-01 0.00000000e+00]\n",
            " [8.10192365e+00 1.36811955e+00 5.56655675e-01 0.00000000e+00]\n",
            " [7.69813259e+00 1.69560801e-01 5.56655675e-01 0.00000000e+00]\n",
            " [1.91283098e+00 1.22883243e-01 5.56655675e-01 0.00000000e+00]\n",
            " [2.74483098e+00 8.77282259e-01 5.56655675e-01 0.00000000e+00]\n",
            " [5.52621570e+00 5.17537383e-02 5.56655675e-01 0.00000000e+00]\n",
            " [6.38493583e+00 8.66618255e-01 5.56655675e-01 0.00000000e+00]\n",
            " [9.31055237e+00 7.71827433e-01 5.56655675e-01 0.00000000e+00]\n",
            " [8.08209565e-01 1.51323839e-01 5.56655675e-01 0.00000000e+00]\n",
            " [7.78583650e+00 9.04378384e-01 5.56655675e-01 0.00000000e+00]\n",
            " [7.90557540e+00 1.38195276e+00 5.56655675e-01 0.00000000e+00]\n",
            " [5.93436733e+00 3.92292927e-02 5.56655675e-01 0.00000000e+00]\n",
            " [1.40879216e+00 7.32442839e-01 5.56655675e-01 0.00000000e+00]\n",
            " [8.35064465e+00 8.72105591e-01 5.56655675e-01 0.00000000e+00]\n",
            " [2.76800072e+00 1.33048075e+00 5.56655675e-01 0.00000000e+00]\n",
            " [8.18235947e+00 1.37074473e+00 5.56655675e-01 0.00000000e+00]\n",
            " [3.93262732e-01 5.49665968e-01 5.56655675e-01 0.00000000e+00]\n",
            " [9.73594458e+00 3.59047924e-01 5.56655675e-01 0.00000000e+00]\n",
            " [6.31235495e+00 4.77723037e-01 5.56655675e-01 0.00000000e+00]\n",
            " [7.35960401e+00 3.96932517e-01 5.56655675e-01 0.00000000e+00]\n",
            " [1.00845961e+01 2.32495934e-01 5.56655675e-01 0.00000000e+00]\n",
            " [9.37809913e+00 1.16938306e+00 5.56655675e-01 0.00000000e+00]\n",
            " [6.10210896e+00 9.21904766e-01 5.56655675e-01 0.00000000e+00]\n",
            " [1.08167353e+01 8.66620097e-01 5.56655675e-01 0.00000000e+00]\n",
            " [7.15378721e+00 8.25809481e-01 5.56655675e-01 0.00000000e+00]\n",
            " [1.99273773e+00 2.36396249e-01 5.56655675e-01 0.00000000e+00]\n",
            " [2.77127945e+00 6.79074878e-01 5.56655675e-01 0.00000000e+00]\n",
            " [2.77391795e+00 5.63831795e-01 5.56655675e-01 0.00000000e+00]\n",
            " [7.84398384e+00 1.38577913e+00 5.56655675e-01 0.00000000e+00]\n",
            " [8.09432780e+00 1.84004384e-01 5.56655675e-01 0.00000000e+00]\n",
            " [8.47607126e+00 1.35005756e+00 5.56655675e-01 0.00000000e+00]\n",
            " [1.02000007e+01 1.67212292e-01 5.56655675e-01 0.00000000e+00]\n",
            " [1.09127937e+01 3.70935592e-01 5.56655675e-01 0.00000000e+00]\n",
            " [5.36345639e+00 1.06023970e+00 5.56655675e-01 0.00000000e+00]\n",
            " [5.74948703e+00 5.36586733e-01 5.56655675e-01 0.00000000e+00]\n",
            " [2.24479675e+00 6.17461300e-01 5.56655675e-01 0.00000000e+00]\n",
            " [5.24707928e+00 5.42011945e-01 5.56655675e-01 0.00000000e+00]\n",
            " [1.31006654e+00 9.14334486e-01 5.56655675e-01 0.00000000e+00]\n",
            " [7.19748613e+00 9.79972916e-01 5.56655675e-01 0.00000000e+00]\n",
            " [1.08413165e+01 1.17825328e+00 5.56655675e-01 0.00000000e+00]\n",
            " [1.02610148e+01 7.49660454e-01 5.56655675e-01 0.00000000e+00]\n",
            " [1.59904075e+00 8.81522083e-02 5.56655675e-01 0.00000000e+00]]\n"
          ],
          "name": "stdout"
        }
      ]
    },
    {
      "metadata": {
        "id": "_XECcVmEIaVq",
        "colab_type": "text"
      },
      "cell_type": "markdown",
      "source": [
        "# Step 2 - Training the Model"
      ]
    },
    {
      "metadata": {
        "id": "xCcOSUfmJNYA",
        "colab_type": "text"
      },
      "cell_type": "markdown",
      "source": [
        "* Here we calculate the true answers of QA_dataset array, based on the downloaded dataset data3D.\n",
        "For this purpose, we use the *calculate_y()* function."
      ]
    },
    {
      "metadata": {
        "id": "nvzS_u-Sa0Uw",
        "colab_type": "code",
        "colab": {
          "base_uri": "https://localhost:8080/",
          "height": 663
        },
        "outputId": "7acd15a1-1c74-46b8-fa2c-93c39d446462"
      },
      "cell_type": "code",
      "source": [
        "def calculate_y(query_data, data):\n",
        "  average_y = []   \n",
        "  #We populate the list\n",
        "  for validation_datapoint in query_data:\n",
        "    y, y_final = [], []\n",
        "    iter=0\n",
        "    for query_datapoint in data:\n",
        "      #Check if the incoming datapoint satisfies the condition, according to which it's distance from the validation datapoint is smaller or equal,\n",
        "      #to the radius z of the circle with center C(X1,X2), where validation_datapoint q=[X1,X2,z].\n",
        "      if (((query_datapoint[0] - validation_datapoint[0])**2 + (query_datapoint[1] - validation_datapoint[1])**2) <= validation_datapoint[2]**2):\n",
        "        y.append(query_datapoint[2])\n",
        "        iter+=1\n",
        "    #If there is no data point assigned to our query, increase (double) the radius. \n",
        "    if iter == 0:\n",
        "      y = []\n",
        "      for query_datapoint in data:\n",
        "        if (((query_datapoint[0] - validation_datapoint[0])**2 + (query_datapoint[1] - validation_datapoint[1])**2) <= validation_datapoint[2]):\n",
        "          y.append(query_datapoint[2])\n",
        "          iter+=1  \n",
        "    #If, still there is no data point assigned to our query, increase (double) the radius.\n",
        "    if iter == 0:\n",
        "      y = []\n",
        "      for query_datapoint in data:\n",
        "        if (((query_datapoint[0] - validation_datapoint[0])**2 + (query_datapoint[1] - validation_datapoint[1])**2) <= validation_datapoint[2]**(1/2)):\n",
        "          y.append(query_datapoint[2])\n",
        "          iter+=1\n",
        "    y_final = np.asarray(y)  \n",
        "    #Calculate the average value of y.\n",
        "    average_y.append(np.mean(y_final, axis=0))  \n",
        "  return(average_y)    \n",
        "            \n",
        "        \n",
        "      \n",
        "#Run the algorithm.      \n",
        "x_list = calculate_y(QA_dataset, data3D)\n",
        "#print(x_list)\n",
        "#In case there is a query that did not match to any datapoint from data3D, to avoid error in calculations due to NaN, we set 0 value.\n",
        "x_array = np.asarray(x_list)\n",
        "replace = np.isnan(x_array)\n",
        "x_array[replace] = 0\n",
        "#We store y in the list, real_y.\n",
        "real_y = x_array\n",
        "print(real_y)\n"
      ],
      "execution_count": 10,
      "outputs": [
        {
          "output_type": "stream",
          "text": [
            "/usr/local/lib/python3.6/dist-packages/numpy/core/fromnumeric.py:2957: RuntimeWarning: Mean of empty slice.\n",
            "  out=out, **kwargs)\n",
            "/usr/local/lib/python3.6/dist-packages/numpy/core/_methods.py:80: RuntimeWarning: invalid value encountered in double_scalars\n",
            "  ret = ret.dtype.type(ret / rcount)\n"
          ],
          "name": "stderr"
        },
        {
          "output_type": "stream",
          "text": [
            "[15.625      15.08333333 15.5125     14.68291014 15.85       14.21574741\n",
            " 16.19354839 14.56961943 14.7        14.7536604   6.02376044  0.92607004\n",
            " 14.47330334 15.47574222 16.14516129  7.48561151  0.93345297  0.51997498\n",
            "  0.60127294 14.76871622 11.97363564 14.56663252 14.50943289 15.99453552\n",
            " 16.625      14.69105691  4.50262697 16.42424242 15.09353173 16.25\n",
            " 16.         15.79452888 15.48038165 14.43639714 15.48988805 16.\n",
            " 13.58820159 15.78117048 15.39573901 15.40808824 15.33828208  4.71311288\n",
            " 16.59869848 14.71107167 16.         14.64651893 13.34773065 14.46780695\n",
            " 16.22222222 15.40896159  0.54054054 16.33333333 14.30434783  2.01924199\n",
            " 15.26086957 15.54285714 15.40625    13.61254817  0.67772354 14.29097898\n",
            " 12.65771916 15.13359546 16.52161383 15.43693833 14.14285714  0.61123495\n",
            "  9.18937865 13.36308268 14.91538462 14.39149181 15.21691678 14.66666667\n",
            " 14.84189805 13.82741375  0.39433033 14.52318769 14.97921661 15.49844652\n",
            " 15.5520667   3.18103448 15.63157895 14.84782609 15.51151813 16.\n",
            " 14.44526331 14.83296943 13.13761847  0.61538462 16.06122449 15.77476415\n",
            " 15.         16.67391304 14.81420644 16.5        16.09090909 16.33333333\n",
            "  0.47256198  1.02535975  7.99407216  0.54761905 16.33333333 15.87649701\n",
            " 16.51299827 14.59483805  0.         16.08730159  6.28120375 15.95918367\n",
            " 17.33333333 15.4981685  13.86757798 13.82298323 15.32774005 16.24657534\n",
            " 15.34343434 15.37478802 15.61764706  0.61982217 16.33333333 16.18421053\n",
            " 14.54719609  0.5        15.43888523 15.41233197 14.40449137 15.49951472\n",
            " 15.2295082  16.04255319 16.21052632  2.56639004 16.         10.80192394\n",
            "  3.8446529   1.73538961  6.43592021  0.49959629 16.5         4.75658702\n",
            " 15.52874197 16.48051948 15.51973684 16.64       12.4507133  15.76256983\n",
            " 12.97997797 13.59390863 11.1436778  14.43491124 15.43231441 14.1668999\n",
            " 15.32       14.8        15.2875     15.43333333 14.03810805  0.56666667\n",
            " 14.21014805 16.5        15.09       16.5        16.22705771 14.9712068\n",
            " 13.75028816 15.14040978 15.02473118 16.27777778  2.67435688 15.965\n",
            " 16.46153846 15.61481292 12.87129073 16.27380952 16.02259887 16.5\n",
            "  0.46729097 15.63414634 15.46474973 15.88609364 15.30769231 16.\n",
            " 15.20289855 16.5        16.425      14.57393083 13.2746689  13.21718903\n",
            " 16.46153846 16.46207865 16.5        15.8        16.25       15.52360515\n",
            " 15.38421829 14.28686653 14.71463621  6.30680265 16.23026316 16.5\n",
            " 14.14285714 14.51594174]\n"
          ],
          "name": "stdout"
        }
      ]
    },
    {
      "metadata": {
        "id": "5wYxV9yUJwrU",
        "colab_type": "text"
      },
      "cell_type": "markdown",
      "source": [
        "* We **merge** the true answers **y** with the **X1**, **X2** and **z** attributes of the QA_dataset, into a new matrix of 4 columns with attributes X1, X2, z, y in incremental order."
      ]
    },
    {
      "metadata": {
        "id": "rbWMevBVl2Sl",
        "colab_type": "code",
        "colab": {
          "base_uri": "https://localhost:8080/",
          "height": 197
        },
        "outputId": "4050e34f-e0bf-4df6-a628-32402e5cc583"
      },
      "cell_type": "code",
      "source": [
        "QA_dataset[:,3] = real_y\n",
        "print(QA_dataset)\n",
        "\n"
      ],
      "execution_count": 9,
      "outputs": [
        {
          "output_type": "error",
          "ename": "ValueError",
          "evalue": "ignored",
          "traceback": [
            "\u001b[0;31m---------------------------------------------------------------------------\u001b[0m",
            "\u001b[0;31mValueError\u001b[0m                                Traceback (most recent call last)",
            "\u001b[0;32m<ipython-input-9-57eab739f4f6>\u001b[0m in \u001b[0;36m<module>\u001b[0;34m()\u001b[0m\n\u001b[0;32m----> 1\u001b[0;31m \u001b[0mQA_dataset\u001b[0m\u001b[0;34m[\u001b[0m\u001b[0;34m:\u001b[0m\u001b[0;34m,\u001b[0m\u001b[0;36m3\u001b[0m\u001b[0;34m]\u001b[0m \u001b[0;34m=\u001b[0m \u001b[0mreal_y\u001b[0m\u001b[0;34m\u001b[0m\u001b[0m\n\u001b[0m\u001b[1;32m      2\u001b[0m \u001b[0mprint\u001b[0m\u001b[0;34m(\u001b[0m\u001b[0mQA_dataset\u001b[0m\u001b[0;34m)\u001b[0m\u001b[0;34m\u001b[0m\u001b[0m\n\u001b[1;32m      3\u001b[0m \u001b[0;34m\u001b[0m\u001b[0m\n",
            "\u001b[0;31mValueError\u001b[0m: could not broadcast input array from shape (20) into shape (200)"
          ]
        }
      ]
    },
    {
      "metadata": {
        "id": "U2VnORiSL2IP",
        "colab_type": "text"
      },
      "cell_type": "markdown",
      "source": [
        "* Here we apply **Principal Component Analysis** on QA_dataset and use the **RPCL** algorithm to cluster the new query-answer data set of 2 dimensions."
      ]
    },
    {
      "metadata": {
        "id": "SFHmbcEco65R",
        "colab_type": "code",
        "colab": {
          "base_uri": "https://localhost:8080/",
          "height": 863
        },
        "outputId": "fc8c98e7-943e-4c25-f557-c3f3765dd4df"
      },
      "cell_type": "code",
      "source": [
        "import matplotlib.pyplot as plt\n",
        "from matplotlib import style\n",
        "style.use('ggplot')\n",
        "\n",
        "from sklearn import decomposition\n",
        "pca = decomposition.PCA(n_components=2)\n",
        "sklearn_pca_x = pca.fit_transform(QA_dataset)\n",
        "#print(sklearn_pca_x)\n",
        "\n",
        "\n",
        "markers = 5*[\"o\", \"v\", \"d\", \"^\", \"4\", \"*\"]\n",
        "colors = 5*[\"g\", \"c\", \"r\", \"b\", \"k\", \"m\"]\n",
        "\n",
        "#This function selects the second smallest number from a given list of numbers. \n",
        "def second_smallest(numbers):\n",
        "    a1, a2 = float('inf'), float('inf')\n",
        "    for x in numbers:\n",
        "        if x <= a1:\n",
        "            a1, a2 = x, a1\n",
        "        elif x < a2:\n",
        "            a2 = x\n",
        "    return a2\n",
        "  \n",
        "class K_Means:\n",
        "    def __init__(self, k=8):\n",
        "        self.k = k\n",
        "        \n",
        "    \n",
        "    def fit(self,data):\n",
        "        #Create empty dictionary\n",
        "        self.centroids = {}\n",
        "        \n",
        "        #We iterate through data. For k=2, the 2 first \"pairs\" from the dataset are used as our initial centroids.\n",
        "        for i in range(self.k):\n",
        "            self.centroids[i] = data[-i]\n",
        "        \n",
        "        \n",
        "        #for self.classifications dictionary, the centroids will be the keys and the featureset will be the values of those keys.\n",
        "        self.classifications= {}\n",
        "            \n",
        "        #Create a list\n",
        "        for i in range(self.k):\n",
        "            self.classifications[i] = []\n",
        "        iter=0\n",
        "                   \n",
        "        #We populate the list\n",
        "        for featureset in data:\n",
        "            iter+=1\n",
        "            #Creates a list, populated with K number of values, where each value is the distance of a datapoint from each centroid.\n",
        "            distances = [np.linalg.norm(featureset - self.centroids[centroid]) for centroid in self.centroids]\n",
        "            #We classify each datapoint with the index value of the minimum distance.\n",
        "            classification = distances.index(min(distances))\n",
        "            #Calculate 2nd closest centroid to the given datapoint.\n",
        "            second_winner_distance = second_smallest(distances)                \n",
        "            second_winner_centroid = distances.index(second_winner_distance)\n",
        "            \n",
        "            #Moving 1st winner centroid closer to the datapoint and rival centroid away from the datapoint.\n",
        "            self.centroids[classification] = self.centroids[classification] + 0.1 * (featureset - self.centroids[classification])\n",
        "            self.centroids[second_winner_centroid] = self.centroids[second_winner_centroid] - 0.025 * (featureset - self.centroids[second_winner_centroid])\n",
        "           \n",
        "            #In every iteration we add the datpoints assigned to each centroid, so that each centroid-key of the dictionary will have the according datapoints-keys assigned to it.\n",
        "            self.classifications[classification].append(featureset)\n",
        "           \n",
        "            #If the formed cluster contains more than 99 datapoints (>=10% of total data), then we re-calculate it's centroid, by finding the average of all the classified datapoints.\n",
        "            #If the formed cluster is relatively small (<=99), then the centroid will not be at the centre of the cluster but away from it. The decision is subjective.\n",
        "            for classification in self.classifications:\n",
        "                if (len(self.classifications[classification])>19):\n",
        "                  self.centroids[classification] = np.average(self.classifications[classification], axis=0)\n",
        "        \n",
        "\n",
        "            \n",
        "                    \n",
        "    #This function is redundant, but we included it for completeness.               \n",
        "    def predict(self,data):\n",
        "        distances = [np.linalg.norm(featureset - self.centroids[centroid]) for centroid in self.centroids]\n",
        "        classification = distances.index(min(distances))\n",
        "        return classification\n",
        "\n",
        "#We call the fit() fucntion.\n",
        "clf = K_Means()\n",
        "clf.fit(sklearn_pca_x)\n",
        "\n",
        "fig = plt.figure()\n",
        "\n",
        "#Plot the centroids. \n",
        "for centroid in clf.centroids:\n",
        "    color = colors[centroid]\n",
        "    plt.scatter(clf.centroids[centroid][0], clf.centroids[centroid][1],\n",
        "               marker=\"x\", color=color, s=720, linewidths=5)\n",
        "\n",
        "#Plot the datapoints. Their color/shape depends on their classification.\n",
        "for classification in clf.classifications:\n",
        "    color = colors[classification]\n",
        "    marker = markers[classification]\n",
        "    for featureset in clf.classifications[classification]:\n",
        "        plt.scatter(featureset[0], featureset[1], marker=marker, color=color, s=50, linewidths=3)\n",
        "\n",
        "        \n",
        "plt.title('RPCL clustering with PCA')\n",
        "plt.xlabel('PCA-x')\n",
        "plt.ylabel('PCA-y')         \n",
        "plt.show()\n",
        "\n",
        "print('\\t\\t','Cluster {no} has: {number} data points'.format(no=1, number=len(clf.classifications[0])))\n",
        "print('\\t\\t','Cluster {no} has: {number} data points'.format(no=2, number=len(clf.classifications[1])))\n",
        "print('\\t\\t','Cluster {no} has: {number} data points'.format(no=3, number=len(clf.classifications[2])))\n",
        "print('\\t\\t','Cluster {no} has: {number} data points'.format(no=4, number=len(clf.classifications[3])))\n",
        "print('\\t\\t','Cluster {no} has: {number} data points'.format(no=5, number=len(clf.classifications[4])))\n",
        "print('\\t\\t','Cluster {no} has: {number} data points'.format(no=6, number=len(clf.classifications[5])))\n",
        "print('\\t\\t','Cluster {no} has: {number} data points'.format(no=7, number=len(clf.classifications[6])))\n",
        "print('\\t\\t','Cluster {no} has: {number} data points'.format(no=8, number=len(clf.classifications[7])))\n",
        "\n",
        "\n",
        "#Here we plot the Sum of distances of each cluster's datapoints from their respective centroid.\n",
        "from sklearn.cluster import KMeans\n",
        "\n",
        "sse = {}\n",
        "for k in range(1, 10):\n",
        "    kmeans = KMeans(n_clusters=k, max_iter=1000).fit(sklearn_pca_x)\n",
        "    labels1 = kmeans.labels_\n",
        "    \n",
        "    sse[k] = kmeans.inertia_ # Inertia: Sum of distances of samples to their closest cluster center.\n",
        "    \n",
        "#The plot showcases the error with respect to the number of clusters for K-Means algorithm.\n",
        "plt.figure()\n",
        "plt.plot(list(sse.keys()), list(sse.values()))\n",
        "plt.xlabel(\"Number of clusters\")\n",
        "plt.ylabel(\"SSE\")\n",
        "plt.title(\"\")\n",
        "plt.show()"
      ],
      "execution_count": 35,
      "outputs": [
        {
          "output_type": "display_data",
          "data": {
            "image/png": "[encoded data removed]",
            "text/plain": [
              "<matplotlib.figure.Figure at 0x7f3808e30780>"
            ]
          },
          "metadata": {
            "tags": []
          }
        },
        {
          "output_type": "stream",
          "text": [
            "\t\t Cluster 1 has: 14 data points\n",
            "\t\t Cluster 2 has: 42 data points\n",
            "\t\t Cluster 3 has: 24 data points\n",
            "\t\t Cluster 4 has: 16 data points\n",
            "\t\t Cluster 5 has: 1 data points\n",
            "\t\t Cluster 6 has: 65 data points\n",
            "\t\t Cluster 7 has: 15 data points\n",
            "\t\t Cluster 8 has: 23 data points\n"
          ],
          "name": "stdout"
        },
        {
          "output_type": "display_data",
          "data": {
            "image/png": "[encoded data removed]",
            "text/plain": [
              "<matplotlib.figure.Figure at 0x7f38087678d0>"
            ]
          },
          "metadata": {
            "tags": []
          }
        }
      ]
    },
    {
      "metadata": {
        "id": "-SzFiPTFMdEL",
        "colab_type": "text"
      },
      "cell_type": "markdown",
      "source": [
        "* We also apply **t-SNE** on QA_dataset and use the **RPCL** algorithm to cluster the new query-answer data set of 2 dimensions."
      ]
    },
    {
      "metadata": {
        "id": "fkisCOj30Jfy",
        "colab_type": "code",
        "colab": {
          "base_uri": "https://localhost:8080/",
          "height": 516
        },
        "outputId": "f272d4c2-2509-4a90-e002-4c95e299fe4c"
      },
      "cell_type": "code",
      "source": [
        "import matplotlib.pyplot as plt\n",
        "from matplotlib import style\n",
        "style.use('ggplot')\n",
        "\n",
        "from sklearn.manifold import TSNE\n",
        "tsne = TSNE(n_components=2, random_state=0)\n",
        "x_test_2d = tsne.fit_transform(QA_dataset)\n",
        "\n",
        "markers = 5*[\"o\", \"v\", \"d\", \"^\", \"4\", \"*\"]\n",
        "colors = 5*[\"g\", \"c\", \"r\", \"b\", \"k\", \"m\"]\n",
        "\n",
        "#This function selects the second smallest number from a givn list of numbers. \n",
        "def second_smallest(numbers):\n",
        "    a1, a2 = float('inf'), float('inf')\n",
        "    for x in numbers:\n",
        "        if x <= a1:\n",
        "            a1, a2 = x, a1\n",
        "        elif x < a2:\n",
        "            a2 = x\n",
        "    return a2\n",
        "  \n",
        "class K_Means:\n",
        "    def __init__(self, k=8):\n",
        "        self.k = k\n",
        "        \n",
        "    \n",
        "    def fit(self,data):\n",
        "        #Create empty dictionary\n",
        "        self.centroids = {}\n",
        "        \n",
        "        #We iterate through data. For k=2, the 2 first \"pairs\" from the dataset are used as our initial centroids.\n",
        "        for i in range(self.k):\n",
        "            self.centroids[i] = data[-i]\n",
        "        \n",
        "        \n",
        "        #for self.classifications dictionary, the centroids will be the keys and the featureset will be the values of those keys.\n",
        "        self.classifications= {}\n",
        "            \n",
        "        #Create a list\n",
        "        for i in range(self.k):\n",
        "            self.classifications[i] = []\n",
        "        iter=0\n",
        "                   \n",
        "        #We populate the list\n",
        "        for featureset in data:\n",
        "            iter+=1\n",
        "            #Creates a list, populated with K number of values, where each value is the distance of a datapoint from each centroid.\n",
        "            distances = [np.linalg.norm(featureset - self.centroids[centroid]) for centroid in self.centroids]\n",
        "            #We classify each datapoint with the index value of the minimum distance.\n",
        "            classification = distances.index(min(distances))\n",
        "            #Calculate 2nd closest centroid to the given datapoint.\n",
        "            second_winner_distance = second_smallest(distances)                \n",
        "            second_winner_centroid = distances.index(second_winner_distance)\n",
        "            \n",
        "            #Moving 1st winner centroid closer to the datapoint and rival centroid away from the datapoint.\n",
        "            self.centroids[classification] = self.centroids[classification] + 0.1 * (featureset - self.centroids[classification])\n",
        "            self.centroids[second_winner_centroid] = self.centroids[second_winner_centroid] - 0.025 * (featureset - self.centroids[second_winner_centroid])\n",
        "           \n",
        "            #In every iteration we add the datpoints assigned to each centroid, so that each centroid-key of the dictionary will have the according datapoints-keys assigned to it.\n",
        "            self.classifications[classification].append(featureset)\n",
        "           \n",
        "            #If the formed cluster contains more than 99 datapoints (>= 10% of total data), then we re-calculate it's centroid, by finding the average of all the classified datapoints.\n",
        "            #If the formed cluster is relatively small (<=99), then the centroid will not be at the centre of the cluster but away from it. The decision is subjective.\n",
        "            for classification in self.classifications:\n",
        "                if (len(self.classifications[classification])>19):\n",
        "                  self.centroids[classification] = np.average(self.classifications[classification], axis=0)\n",
        "        \n",
        "\n",
        "            \n",
        "                    \n",
        "    #This function is redundant, but we included it for completeness.                \n",
        "    def predict(self,data):\n",
        "        distances = [np.linalg.norm(featureset - self.centroids[centroid]) for centroid in self.centroids]\n",
        "        classification = distances.index(min(distances))\n",
        "        return classification\n",
        "\n",
        "#We call the fit() fucntion.\n",
        "clf = K_Means()\n",
        "clf.fit(x_test_2d)\n",
        "\n",
        "fig = plt.figure()\n",
        "\n",
        "#Plot the centroids. \n",
        "for centroid in clf.centroids:\n",
        "    color = colors[centroid]\n",
        "    plt.scatter(clf.centroids[centroid][0], clf.centroids[centroid][1],\n",
        "               marker=\"x\", color=color, s=720, linewidths=5)\n",
        "\n",
        "#Plot the datapoints. Their color/shape depends on their classification.\n",
        "for classification in clf.classifications:\n",
        "    color = colors[classification]\n",
        "    marker = markers[classification]\n",
        "    for featureset in clf.classifications[classification]:\n",
        "        plt.scatter(featureset[0], featureset[1], marker=marker, color=color, s=50, linewidths=3)\n",
        "\n",
        "        \n",
        "plt.title('RPCL clustering with t-SNE')\n",
        "plt.xlabel('tSNE-x')\n",
        "plt.ylabel('tSNE-y')         \n",
        "plt.show()\n",
        "\n",
        "print('\\t\\t','Cluster {no} has: {number} data points'.format(no=1, number=len(clf.classifications[0])))\n",
        "print('\\t\\t','Cluster {no} has: {number} data points'.format(no=2, number=len(clf.classifications[1])))\n",
        "print('\\t\\t','Cluster {no} has: {number} data points'.format(no=3, number=len(clf.classifications[2])))\n",
        "print('\\t\\t','Cluster {no} has: {number} data points'.format(no=4, number=len(clf.classifications[3])))\n",
        "print('\\t\\t','Cluster {no} has: {number} data points'.format(no=5, number=len(clf.classifications[4])))\n",
        "print('\\t\\t','Cluster {no} has: {number} data points'.format(no=6, number=len(clf.classifications[5])))\n",
        "print('\\t\\t','Cluster {no} has: {number} data points'.format(no=7, number=len(clf.classifications[6])))\n",
        "print('\\t\\t','Cluster {no} has: {number} data points'.format(no=8, number=len(clf.classifications[7])))\n"
      ],
      "execution_count": 36,
      "outputs": [
        {
          "output_type": "display_data",
          "data": {
            "image/png": "[encoded data removed]",
            "text/plain": [
              "<matplotlib.figure.Figure at 0x7f38702eb3c8>"
            ]
          },
          "metadata": {
            "tags": []
          }
        },
        {
          "output_type": "stream",
          "text": [
            "\t\t Cluster 1 has: 22 data points\n",
            "\t\t Cluster 2 has: 75 data points\n",
            "\t\t Cluster 3 has: 35 data points\n",
            "\t\t Cluster 4 has: 24 data points\n",
            "\t\t Cluster 5 has: 5 data points\n",
            "\t\t Cluster 6 has: 9 data points\n",
            "\t\t Cluster 7 has: 9 data points\n",
            "\t\t Cluster 8 has: 21 data points\n"
          ],
          "name": "stdout"
        }
      ]
    },
    {
      "metadata": {
        "id": "ZaZ11Rd0MoIr",
        "colab_type": "text"
      },
      "cell_type": "markdown",
      "source": [
        "# Step 3 - Predicting the Answer"
      ]
    },
    {
      "metadata": {
        "id": "CXOHOditMvBu",
        "colab_type": "text"
      },
      "cell_type": "markdown",
      "source": [
        "* First, we generate a small set of **100 queries** with 3 attributes: X1, X2 and z using the **Uniform distribution**."
      ]
    },
    {
      "metadata": {
        "id": "7Cvw9-wQ52e7",
        "colab_type": "code",
        "colab": {
          "base_uri": "https://localhost:8080/",
          "height": 357
        },
        "outputId": "6937d56c-9b30-4446-d110-4bab3beaa694"
      },
      "cell_type": "code",
      "source": [
        "import random\n",
        "import numpy as np\n",
        "\n",
        "#Generate 100 queries q=[X1,X2,z] with X1,X2 following the Uniform distribution and z fixed.\n",
        "X1 = np.random.uniform(lim1, lim2, 20)\n",
        "X2 = np.random.uniform(lim3, lim4, 20)\n",
        "z1 = 0.05*(lim2 - lim1)\n",
        "z2 = 0.05*(lim4 - lim3)\n",
        "z = np.sqrt(z1**2 + z2**2)\n",
        "\n",
        "\n",
        "X1_flattened = (X1.T).ravel()\n",
        "X2_flattened = (X2.T).ravel()\n",
        "query = np.empty((len(X1),3))\n",
        "query[:,0] = X1_flattened\n",
        "query[:,1] = X2_flattened\n",
        "query[:,2] = z\n",
        "\n",
        "\n",
        "print(query)"
      ],
      "execution_count": 7,
      "outputs": [
        {
          "output_type": "stream",
          "text": [
            "[[1.32790019e+00 2.67747109e-01 5.56655675e-01]\n",
            " [4.02454660e+00 1.13928674e-01 5.56655675e-01]\n",
            " [1.63867842e+00 6.07983212e-01 5.56655675e-01]\n",
            " [9.78983672e+00 2.29224843e-01 5.56655675e-01]\n",
            " [3.10287625e+00 8.59451624e-01 5.56655675e-01]\n",
            " [2.21863252e+00 2.20341038e-01 5.56655675e-01]\n",
            " [5.57820377e+00 1.17209768e+00 5.56655675e-01]\n",
            " [1.05621117e+01 2.61855145e-01 5.56655675e-01]\n",
            " [9.15812285e+00 1.23797240e+00 5.56655675e-01]\n",
            " [6.59594176e-01 8.29457231e-01 5.56655675e-01]\n",
            " [5.16240597e+00 5.58199151e-01 5.56655675e-01]\n",
            " [5.08324002e+00 1.08749632e+00 5.56655675e-01]\n",
            " [4.35762252e-01 6.02539618e-01 5.56655675e-01]\n",
            " [6.35229535e+00 5.76525671e-04 5.56655675e-01]\n",
            " [3.51249123e+00 2.44039757e-01 5.56655675e-01]\n",
            " [4.98967371e+00 1.27410500e+00 5.56655675e-01]\n",
            " [2.89128581e+00 3.61804912e-01 5.56655675e-01]\n",
            " [6.14654868e+00 3.70245940e-01 5.56655675e-01]\n",
            " [6.60821942e+00 9.43906112e-01 5.56655675e-01]\n",
            " [5.05725040e+00 4.42502361e-01 5.56655675e-01]]\n"
          ],
          "name": "stdout"
        }
      ]
    },
    {
      "metadata": {
        "id": "NqHxuNmTNHxp",
        "colab_type": "text"
      },
      "cell_type": "markdown",
      "source": [
        "* Same as in the Training phase of our model, here we **calculate** the true answers to our 20 new queries, based on the QA_dataset which we generated based on the downloaded data set.\n",
        "For this purpose, we use the *calculate_y()* function."
      ]
    },
    {
      "metadata": {
        "id": "K0PyXirGJsVD",
        "colab_type": "code",
        "colab": {
          "base_uri": "https://localhost:8080/",
          "height": 34
        },
        "outputId": "46b95bd0-5fff-4ad9-ce49-fc37106b0bca"
      },
      "cell_type": "code",
      "source": [
        "def calculate_y_new(query_data, data):\n",
        "  average_y = []   \n",
        "  #We populate the list\n",
        "  for validation_datapoint in query_data:\n",
        "    y, y_final = [], []\n",
        "    iter=0\n",
        "    for query_datapoint in data:\n",
        "      #Check if the incoming datapoint satisfies the condition, according to which it's distance from the validation datapoint is smaller or equal,\n",
        "      #to the radius z of the circle with center C(X1,X2), where validation_datapoint q=[X1,X2,z].\n",
        "      if (((query_datapoint[0] - validation_datapoint[0])**2 + (query_datapoint[1] - validation_datapoint[1])**2) <= validation_datapoint[2]**2):\n",
        "        y.append(query_datapoint[3])\n",
        "        iter+=1\n",
        "    if iter == 0:\n",
        "      y = []\n",
        "      for query_datapoint in data:\n",
        "        if (((query_datapoint[0] - validation_datapoint[0])**2 + (query_datapoint[1] - validation_datapoint[1])**2) <= validation_datapoint[2]):\n",
        "          y.append(query_datapoint[3])\n",
        "          iter+=1  \n",
        "    if iter == 0:\n",
        "      y = []\n",
        "      for query_datapoint in data:\n",
        "        if (((query_datapoint[0] - validation_datapoint[0])**2 + (query_datapoint[1] - validation_datapoint[1])**2) <= validation_datapoint[2]**(1/2)):\n",
        "          y.append(query_datapoint[3])\n",
        "          iter+=1\n",
        "    y_final = np.asarray(y)  \n",
        "    #Calculate the average value of y.\n",
        "    average_y.append(np.mean(y_final, axis=0))  \n",
        "  return(average_y)    \n",
        "            \n",
        "        \n",
        "      \n",
        "      \n",
        "#Run the algorithm.      \n",
        "x_list = calculate_y_new(query, QA_dataset)\n",
        "#print(x_list)\n",
        "#In case there is a query that did not match to any datapoint from QA_dataset, to avoid error in calculations due to NaN, we set 0 value.\n",
        "x_array = np.asarray(x_list)\n",
        "replace = np.isnan(x_array)\n",
        "x_array[replace] = 0\n",
        "#We store y in the list, real_y.\n",
        "real_y = x_array\n",
        "print(real_y)"
      ],
      "execution_count": 8,
      "outputs": [
        {
          "output_type": "stream",
          "text": [
            "[0. 0. 0. 0. 0. 0. 0. 0. 0. 0. 0. 0. 0. 0. 0. 0. 0. 0. 0. 0.]\n"
          ],
          "name": "stdout"
        }
      ]
    },
    {
      "metadata": {
        "id": "51Ao1xfUP1U1",
        "colab_type": "text"
      },
      "cell_type": "markdown",
      "source": [
        "* For the final part of the prediction phase, we use the *fit()* function to cluster the QA_dataset and we **predict** the answer-response for each query from the 100 queries, which we generated for evaluation, by classifying them to the clusters they belong to and assigning the cluster's centroid response, to the query's predicted response.\n"
      ]
    },
    {
      "metadata": {
        "id": "7HX6MqGCKqBl",
        "colab_type": "code",
        "colab": {
          "base_uri": "https://localhost:8080/",
          "height": 1074
        },
        "outputId": "6ac2b008-ae58-4ff1-d146-3e51710d3f6c"
      },
      "cell_type": "code",
      "source": [
        "import matplotlib.pyplot as plt\n",
        "from matplotlib import style\n",
        "style.use('ggplot')\n",
        "\n",
        "markers = 5*[\"o\", \"v\", \"d\", \"^\", \"4\", \"*\"]\n",
        "colors = 5*[\"g\", \"c\", \"r\", \"b\", \"k\", \"m\"]\n",
        "\n",
        "#This function selects the second smallest number from a given list of numbers. \n",
        "def second_smallest(numbers):\n",
        "    a1, a2 = float('inf'), float('inf')\n",
        "    for x in numbers:\n",
        "        if x <= a1:\n",
        "            a1, a2 = x, a1\n",
        "        elif x < a2:\n",
        "            a2 = x\n",
        "    return a2\n",
        "  \n",
        "class K_Means:\n",
        "    def __init__(self, k=5):\n",
        "        self.k = k\n",
        "        \n",
        "    \n",
        "    def fit(self,data):\n",
        "        #Create empty dictionary\n",
        "        self.centroids = {}\n",
        "        \n",
        "        #We iterate through data. For k=2, the 2 first \"pairs\" from the dataset are used as our initial centroids.\n",
        "        for i in range(self.k):\n",
        "            self.centroids[i] = data[-i]\n",
        "        \n",
        "        \n",
        "        #for self.classifications dictionary, the centroids will be the keys and the featureset will be the values of those keys.\n",
        "        self.classifications= {}\n",
        "            \n",
        "        #Create a list\n",
        "        for i in range(self.k):\n",
        "            self.classifications[i] = []\n",
        "        iter=0\n",
        "                   \n",
        "        #We populate the list\n",
        "        for featureset in data:\n",
        "            iter+=1\n",
        "            #Creates a list, populated with K number of values, where each value is the distance of a datapoint from each centroid.\n",
        "            distances = [np.linalg.norm(featureset - self.centroids[centroid]) for centroid in self.centroids]\n",
        "            #We classify each datapoint with the index value of the minimum distance.\n",
        "            classification = distances.index(min(distances))\n",
        "            #Calculate 2nd closest centroid to the given datapoint.\n",
        "            second_winner_distance = second_smallest(distances)                \n",
        "            second_winner_centroid = distances.index(second_winner_distance)\n",
        "            \n",
        "            #Moving 1st winner centroid closer to the datapoint and rival centroid away from the datapoint.\n",
        "            self.centroids[classification] = self.centroids[classification] + 0.1 * (featureset - self.centroids[classification])\n",
        "            self.centroids[second_winner_centroid] = self.centroids[second_winner_centroid] - 0.025 * (featureset - self.centroids[second_winner_centroid])\n",
        "           \n",
        "            #In every iteration we add the datpoints assigned to each centroid, so that each centroid-key of the dictionary will have the according datapoints-keys assigned to it.\n",
        "            self.classifications[classification].append(featureset)\n",
        "           \n",
        "            #If the formed cluster contains more than 99 datapoints (>=10% of total data), then we re-calculate it's centroid, by finding the average of all the classified datapoints.\n",
        "            #If the formed cluster is relatively small (<=99), then the centroid will not be at the centre of the cluster but away from it. The decision is subjective.\n",
        "            for classification in self.classifications:\n",
        "                if (len(self.classifications[classification])>19):\n",
        "                  self.centroids[classification] = np.average(self.classifications[classification], axis=0)\n",
        "        \n",
        "\n",
        "            \n",
        "                    \n",
        "    #This function is redundant, but we included it for completeness.                \n",
        "    def predict(self,data):\n",
        "        distances = [np.linalg.norm(featureset - self.centroids[centroid]) for centroid in self.centroids]\n",
        "        classification = distances.index(min(distances))\n",
        "        return classification\n",
        "        \n",
        "    \n",
        "clf = K_Means()\n",
        "clf.fit(QA_dataset)\n",
        "\n",
        "#In pred_y list we store all the predicted answers y for every query, generated for validation.\n",
        "pred_y = []\n",
        "for query_data in query:\n",
        "  print('Query: {number}'.format(number=query_data))\n",
        "  #We calculate the Euclidean distance of the query's attributes (X1,X2) from the centroid's attributes (X1,X2). \n",
        "  #We do not know the query's answer, so we cannot include the y response value in the Eeclidean distance calculation.\n",
        "  distances = [np.linalg.norm(query_data[0:1] - clf.centroids[centroid][0:1]) for centroid in clf.centroids]\n",
        "  prediction = distances.index(min(distances))\n",
        "  print('Predicted Cluster: {number}'.format(number=prediction))\n",
        "  s = clf.centroids[prediction]\n",
        "  predicted_y = s[3]\n",
        "  pred_y.append(predicted_y)\n",
        "  print('---------------------------')\n",
        "print('List of all the predicted answers y: {number}'.format(number=pred_y))\n",
        "\n",
        "\n"
      ],
      "execution_count": 55,
      "outputs": [
        {
          "output_type": "stream",
          "text": [
            "Query: [7.22941758 1.22193924 0.55665567]\n",
            "Predicted Cluster: 3\n",
            "---------------------------\n",
            "Query: [9.89003607 1.18199576 0.55665567]\n",
            "Predicted Cluster: 0\n",
            "---------------------------\n",
            "Query: [6.88443472 0.4731613  0.55665567]\n",
            "Predicted Cluster: 3\n",
            "---------------------------\n",
            "Query: [10.42299365  0.36749949  0.55665567]\n",
            "Predicted Cluster: 0\n",
            "---------------------------\n",
            "Query: [3.83192051 1.11564747 0.55665567]\n",
            "Predicted Cluster: 2\n",
            "---------------------------\n",
            "Query: [8.91355032 0.48056157 0.55665567]\n",
            "Predicted Cluster: 0\n",
            "---------------------------\n",
            "Query: [10.83832341  1.34509102  0.55665567]\n",
            "Predicted Cluster: 0\n",
            "---------------------------\n",
            "Query: [4.53464407 0.74113877 0.55665567]\n",
            "Predicted Cluster: 2\n",
            "---------------------------\n",
            "Query: [7.56883474 0.38451333 0.55665567]\n",
            "Predicted Cluster: 3\n",
            "---------------------------\n",
            "Query: [5.19581457 0.63957849 0.55665567]\n",
            "Predicted Cluster: 2\n",
            "---------------------------\n",
            "Query: [2.35630132 1.25434376 0.55665567]\n",
            "Predicted Cluster: 1\n",
            "---------------------------\n",
            "Query: [5.9222783  0.59095334 0.55665567]\n",
            "Predicted Cluster: 2\n",
            "---------------------------\n",
            "Query: [5.04486255 0.91319356 0.55665567]\n",
            "Predicted Cluster: 2\n",
            "---------------------------\n",
            "Query: [8.10484985 0.93042972 0.55665567]\n",
            "Predicted Cluster: 4\n",
            "---------------------------\n",
            "Query: [4.64816906 0.91767378 0.55665567]\n",
            "Predicted Cluster: 2\n",
            "---------------------------\n",
            "Query: [4.33995758 1.19912629 0.55665567]\n",
            "Predicted Cluster: 2\n",
            "---------------------------\n",
            "Query: [0.3233684  0.98541452 0.55665567]\n",
            "Predicted Cluster: 1\n",
            "---------------------------\n",
            "Query: [8.73606288 0.48782347 0.55665567]\n",
            "Predicted Cluster: 4\n",
            "---------------------------\n",
            "Query: [10.4843352   0.55756579  0.55665567]\n",
            "Predicted Cluster: 0\n",
            "---------------------------\n",
            "Query: [5.4211252  0.7072723  0.55665567]\n",
            "Predicted Cluster: 2\n",
            "---------------------------\n",
            "List of all the predicted answers y: [19.30546017143822, 16.07755477486847, 19.30546017143822, 16.07755477486847, 15.237700405961672, 16.07755477486847, 16.07755477486847, 15.237700405961672, 19.30546017143822, 15.237700405961672, 8.841679742528243, 15.237700405961672, 15.237700405961672, 19.33502310442133, 15.237700405961672, 15.237700405961672, 8.841679742528243, 19.33502310442133, 16.07755477486847, 15.237700405961672]\n"
          ],
          "name": "stdout"
        }
      ]
    },
    {
      "metadata": {
        "id": "c3VOE_zPF40_",
        "colab_type": "text"
      },
      "cell_type": "markdown",
      "source": [
        "# Step 4 - Evaluating the results"
      ]
    },
    {
      "metadata": {
        "id": "fmMylZjRGD40",
        "colab_type": "text"
      },
      "cell_type": "markdown",
      "source": [
        "* Here, we calulate the **Average Means Squared Error** (RMSE) between the true answer y and the predicted answer y' for our generated queries."
      ]
    },
    {
      "metadata": {
        "id": "bWan2qkILY5w",
        "colab_type": "code",
        "colab": {
          "base_uri": "https://localhost:8080/",
          "height": 34
        },
        "outputId": "5866980a-e0db-4ce4-f2a6-9fcfc51f23eb"
      },
      "cell_type": "code",
      "source": [
        "error = np.sum((pred_y - real_y)**2)\n",
        "average_means_squared_error = np.sqrt(error)/(len(real_y))\n",
        "print('RMSE = {number}'.format(number=average_means_squared_error))"
      ],
      "execution_count": 56,
      "outputs": [
        {
          "output_type": "stream",
          "text": [
            "RMSE = 0.5944371291574778\n"
          ],
          "name": "stdout"
        }
      ]
    },
    {
      "metadata": {
        "id": "Lz0flaB7rcEt",
        "colab_type": "text"
      },
      "cell_type": "markdown",
      "source": [
        "* The **Normalised Average Means Squared Error** (NRMSE) between the true answer y and the predicted answer y' for our generated queries is calculated below."
      ]
    },
    {
      "metadata": {
        "id": "yrHtRGChpkhI",
        "colab_type": "code",
        "colab": {
          "base_uri": "https://localhost:8080/",
          "height": 34
        },
        "outputId": "5bb9b974-5655-4d99-9186-3d51590c2f8f"
      },
      "cell_type": "code",
      "source": [
        "average_y = np.average(real_y, axis=0)\n",
        "\n",
        "enumerator = (pred_y - real_y)**2\n",
        "denominator = (real_y - average_y)**2\n",
        "normalised_average_means_squared_error = np.sum(np.sqrt(enumerator / denominator)) / len(real_y)\n",
        "\n",
        "print('NRMSE = {number}'.format(number=normalised_average_means_squared_error))"
      ],
      "execution_count": 57,
      "outputs": [
        {
          "output_type": "stream",
          "text": [
            "NRMSE = 2.0107668543864152\n"
          ],
          "name": "stdout"
        }
      ]
    },
    {
      "metadata": {
        "id": "a3zHla1OKVD5",
        "colab_type": "code",
        "colab": {
          "base_uri": "https://localhost:8080/",
          "height": 34
        },
        "outputId": "3465e1a8-5002-41e7-9811-af8891682e94"
      },
      "cell_type": "code",
      "source": [
        "error = np.sum(np.abs(pred_y - real_y))\n",
        "mean_absolute_error = error/(len(real_y))\n",
        "print('MAE = {number}'.format(number=mean_absolute_error))"
      ],
      "execution_count": 69,
      "outputs": [
        {
          "output_type": "stream",
          "text": [
            "MAE = 1.274541460151481\n"
          ],
          "name": "stdout"
        }
      ]
    },
    {
      "metadata": {
        "id": "sjjkU7M_nZUd",
        "colab_type": "text"
      },
      "cell_type": "markdown",
      "source": [
        "* We calculate the **Average Means Squared Error** (RMSE) for different k values, for* k=3,4,...,16* and plot the graph."
      ]
    },
    {
      "metadata": {
        "id": "H1ebYQL5OBxm",
        "colab_type": "code",
        "colab": {
          "base_uri": "https://localhost:8080/",
          "height": 231
        },
        "outputId": "2aa773df-87b5-46d5-cb09-666cbf8b77ee"
      },
      "cell_type": "code",
      "source": [
        "#We change the RPCL algorithm, to iterate over various k values.\n",
        "def fit_new(k,data):\n",
        "        #Create empty dictionary\n",
        "        centroids = {}\n",
        "        \n",
        "        #We iterate through data. For k=2, the 2 first \"pairs\" from the dataset are used as our initial centroids.\n",
        "        for i in range(k):\n",
        "            centroids[i] = data[-i]\n",
        "        \n",
        "        \n",
        "        #for self.classifications dictionary, the centroids will be the keys and the featureset will be the values of those keys.\n",
        "        classifications= {}\n",
        "            \n",
        "        #Create a list\n",
        "        for i in range(k):\n",
        "            classifications[i] = []\n",
        "        iter=0\n",
        "                   \n",
        "        #We populate the list\n",
        "        for featureset in data:\n",
        "            iter+=1\n",
        "            #Creates a list, populated with K number of values, where each value is the distance of a datapoint from each centroid.\n",
        "            distances = [np.linalg.norm(featureset - centroids[centroid]) for centroid in centroids]\n",
        "            #We classify each datapoint with the index value of the minimum distance.\n",
        "            classification = distances.index(min(distances))\n",
        "            #Calculate 2nd closest centroid to the given datapoint.\n",
        "            second_winner_distance = second_smallest(distances)                \n",
        "            second_winner_centroid = distances.index(second_winner_distance)\n",
        "            \n",
        "            #Moving 1st winner centroid closer to the datapoint and rival centroid away from the datapoint.\n",
        "            centroids[classification] = centroids[classification] + 0.1 * (featureset - centroids[classification])\n",
        "            centroids[second_winner_centroid] = centroids[second_winner_centroid] - 0.025 * (featureset - centroids[second_winner_centroid])\n",
        "           \n",
        "            #In every iteration we add the datpoints assigned to each centroid, so that each centroid-key of the dictionary will have the according datapoints-keys assigned to it.\n",
        "            classifications[classification].append(featureset)\n",
        "           \n",
        "            #If the formed cluster contains more than 99 datapoints, then we re-calculate it's centroid, by finding the average of all the classified datapoints.\n",
        "            #If the formed cluster is relatively small (<=99), then the centroid will not be at the centre of the cluster but away from it.\n",
        "            for classification in classifications:\n",
        "                if (len(classifications[classification])>19):\n",
        "                  centroids[classification] = np.average(classifications[classification], axis=0)\n",
        "            #This will be returned from the algorithm, to be used in the calculations.\n",
        "            return centroids\n",
        "          \n",
        "complexity = list()    \n",
        "temp = list()       \n",
        "for k in range(3,16):\n",
        "  clf = fit_new(k, QA_dataset)\n",
        "  pred_y = []\n",
        "  for query_data in query:\n",
        "    #We calculate the Euclidean distance of the query's attributes (X1,X2) from the centroid's attributes (X1,X2). \n",
        "    #We do not know the query's answer, so we cannot include the y response value in the Eeclidean distance calculation.\n",
        "    distances = [np.linalg.norm(query_data[0:1] - clf[centroid][0:1]) for centroid in clf]\n",
        "    prediction = distances.index(min(distances))\n",
        "    s = clf[prediction]\n",
        "    predicted_y = s[3]\n",
        "    pred_y.append(predicted_y)\n",
        "    \n",
        "  error = np.sum((pred_y - real_y)**2)\n",
        "  average_means_squared_error = np.sqrt(error)/(len(real_y))\n",
        "  temp.append(average_means_squared_error)\n",
        "  complexity.append(k)\n",
        "  print('For K = {clusters} the Predictive Error is {number}'.format(clusters=k, number=average_means_squared_error))\n",
        "\n",
        "plt.figure()\n",
        "plt.plot(complexity, temp)\n",
        "plt.xlabel(\"Model Complexity (number of clusters)\")\n",
        "plt.ylabel(\"Predictive Error (RMSE)\")\n",
        "plt.title(\"Predicitve Error - Complexity Curve\")\n",
        "plt.show()"
      ],
      "execution_count": 1,
      "outputs": [
        {
          "output_type": "error",
          "ename": "NameError",
          "evalue": "ignored",
          "traceback": [
            "\u001b[0;31m---------------------------------------------------------------------------\u001b[0m",
            "\u001b[0;31mNameError\u001b[0m                                 Traceback (most recent call last)",
            "\u001b[0;32m<ipython-input-1-910b18e5a555>\u001b[0m in \u001b[0;36m<module>\u001b[0;34m()\u001b[0m\n\u001b[1;32m     45\u001b[0m \u001b[0mtemp\u001b[0m \u001b[0;34m=\u001b[0m \u001b[0mlist\u001b[0m\u001b[0;34m(\u001b[0m\u001b[0;34m)\u001b[0m\u001b[0;34m\u001b[0m\u001b[0m\n\u001b[1;32m     46\u001b[0m \u001b[0;32mfor\u001b[0m \u001b[0mk\u001b[0m \u001b[0;32min\u001b[0m \u001b[0mrange\u001b[0m\u001b[0;34m(\u001b[0m\u001b[0;36m3\u001b[0m\u001b[0;34m,\u001b[0m\u001b[0;36m16\u001b[0m\u001b[0;34m)\u001b[0m\u001b[0;34m:\u001b[0m\u001b[0;34m\u001b[0m\u001b[0m\n\u001b[0;32m---> 47\u001b[0;31m   \u001b[0mclf\u001b[0m \u001b[0;34m=\u001b[0m \u001b[0mfit_new\u001b[0m\u001b[0;34m(\u001b[0m\u001b[0mk\u001b[0m\u001b[0;34m,\u001b[0m \u001b[0mQA_dataset\u001b[0m\u001b[0;34m)\u001b[0m\u001b[0;34m\u001b[0m\u001b[0m\n\u001b[0m\u001b[1;32m     48\u001b[0m   \u001b[0mpred_y\u001b[0m \u001b[0;34m=\u001b[0m \u001b[0;34m[\u001b[0m\u001b[0;34m]\u001b[0m\u001b[0;34m\u001b[0m\u001b[0m\n\u001b[1;32m     49\u001b[0m   \u001b[0;32mfor\u001b[0m \u001b[0mquery_data\u001b[0m \u001b[0;32min\u001b[0m \u001b[0mquery\u001b[0m\u001b[0;34m:\u001b[0m\u001b[0;34m\u001b[0m\u001b[0m\n",
            "\u001b[0;31mNameError\u001b[0m: name 'QA_dataset' is not defined"
          ]
        }
      ]
    },
    {
      "metadata": {
        "id": "3006i1PlJb3Z",
        "colab_type": "code",
        "colab": {
          "base_uri": "https://localhost:8080/",
          "height": 397
        },
        "outputId": "60e6e3d7-9e6c-4b9e-ebde-4e70a680bbb8"
      },
      "cell_type": "code",
      "source": [
        ""
      ],
      "execution_count": 79,
      "outputs": [
        {
          "output_type": "display_data",
          "data": {
            "text/plain": [
              "<matplotlib.figure.Figure at 0x7f37eb10b828>"
            ]
          },
          "metadata": {
            "tags": []
          }
        },
        {
          "output_type": "display_data",
          "data": {
            "image/png": "[encoded data removed]",
            "text/plain": [
              "<matplotlib.figure.Figure at 0x7f37eaf8cf60>"
            ]
          },
          "metadata": {
            "tags": []
          }
        }
      ]
    },
    {
      "metadata": {
        "id": "vqvd7S-uL7Py",
        "colab_type": "code",
        "colab": {
          "base_uri": "https://localhost:8080/",
          "height": 376
        },
        "outputId": "d6966d04-2841-4cda-a630-fec0c362c413"
      },
      "cell_type": "code",
      "source": [
        ""
      ],
      "execution_count": 20,
      "outputs": [
        {
          "output_type": "display_data",
          "data": {
            "image/png": "[encoded data removed]",
            "text/plain": [
              "<matplotlib.figure.Figure at 0x7f1f322e6f60>"
            ]
          },
          "metadata": {
            "tags": []
          }
        }
      ]
    },
    {
      "metadata": {
        "id": "-b4GsXCD01PI",
        "colab_type": "code",
        "colab": {}
      },
      "cell_type": "code",
      "source": [
        ""
      ],
      "execution_count": 0,
      "outputs": []
    }
  ]
}